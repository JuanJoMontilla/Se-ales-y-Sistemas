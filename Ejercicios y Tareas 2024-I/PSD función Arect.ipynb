{
  "nbformat": 4,
  "nbformat_minor": 0,
  "metadata": {
    "colab": {
      "provenance": [],
      "authorship_tag": "ABX9TyPbzSchD0AdM8tMWHYHPvGB",
      "include_colab_link": true
    },
    "kernelspec": {
      "name": "python3",
      "display_name": "Python 3"
    },
    "language_info": {
      "name": "python"
    }
  },
  "cells": [
    {
      "cell_type": "markdown",
      "metadata": {
        "id": "view-in-github",
        "colab_type": "text"
      },
      "source": [
        "<a href=\"https://colab.research.google.com/github/JuanJoMontilla/Senales-y-Sistemas/blob/main/Ejercicios%20y%20Tareas%202024-I/PSD%20funci%C3%B3n%20Arect.ipynb\" target=\"_parent\"><img src=\"https://colab.research.google.com/assets/colab-badge.svg\" alt=\"Open In Colab\"/></a>"
      ]
    },
    {
      "cell_type": "markdown",
      "source": [
        "# **Metodo de Welch**"
      ],
      "metadata": {
        "id": "K7bSI04m3rPB"
      }
    },
    {
      "cell_type": "code",
      "execution_count": null,
      "metadata": {
        "id": "1RoW9to_1tKf"
      },
      "outputs": [],
      "source": [
        "%matplotlib inline\n",
        "import numpy as np\n",
        "import matplotlib.pyplot as plt\n",
        "import scipy.signal as sig\n",
        "\n",
        "N = 128  # length of segment\n",
        "M = 64  # stepsize\n",
        "L = 100  # total number of segments\n",
        "\n",
        "# generate random signal\n",
        "np.random.seed(5)\n",
        "x = np.random.normal(size=L*M)\n",
        "\n",
        "# compute periodogram by Welch's method\n",
        "nf, Pxx = sig.welch(x, window='hamming', nperseg=N, noverlap=(N-M))\n",
        "Pxx = .5*Pxx  # due to normalization in scipy.signal\n",
        "Om = 2*np.pi*nf\n",
        "\n",
        "# plot results\n",
        "plt.figure(figsize=(10,4))\n",
        "plt.stem(Om, Pxx, 'b', label=r'$\\hat{\\Phi}_{xx}(e^{j \\Omega})$', basefmt=' ')\n",
        "plt.plot(Om, np.ones_like(Pxx), 'r', label=r'$\\Phi_{xx}(e^{j \\Omega})$')\n",
        "plt.title('Estimated and true PSD')\n",
        "plt.xlabel(r'$\\Omega$')\n",
        "plt.axis([0, np.pi, 0, 2])\n",
        "plt.legend()\n",
        "\n",
        "# compute mean value of the periodogram\n",
        "print('Mean value of the periodogram: %f' %np.mean(np.abs(Pxx)))"
      ]
    },
    {
      "cell_type": "markdown",
      "source": [
        "Hecho"
      ],
      "metadata": {
        "id": "S6rqp7DB4uv-"
      }
    },
    {
      "cell_type": "code",
      "source": [
        "%matplotlib inline\n",
        "import numpy as np\n",
        "import matplotlib.pyplot as plt\n",
        "import scipy.signal as sig\n",
        "\n",
        "# Parámetros de la función rectangular\n",
        "A = 2  # Amplitud\n",
        "tau = 1  # Ancho de la función rect\n",
        "\n",
        "# Generar señaligenal rectangular\n",
        "t = np.linspace(-5, 5, 1000)  # Vector de tiempo\n",
        "x = A * np.where(np.abs(t) <= tau/2, 1, 0)  # Función rectangular\n",
        "\n",
        "# Computar periodograma mediante el método de Welch\n",
        "nf, Pxx = sig.welch(x, window='hamming', nperseg=128, noverlap=64)\n",
        "Pxx = .5*Pxx  # Debido a la normalización en scipy.signal\n",
        "Om = 2*np.pi*nf\n",
        "\n",
        "# Graficar resultados\n",
        "plt.figure(figsize=(10,4))\n",
        "plt.stem(Om, Pxx, 'b', label=r'$\\hat{\\Phi}_{xx}(e^{j \\Omega})$', basefmt=' ')\n",
        "plt.plot(Om, np.ones_like(Pxx), 'r', label=r'$\\Phi_{xx}(e^{j \\Omega})$')\n",
        "plt.title('Estimated and true PSD')\n",
        "plt.xlabel(r'$\\Omega$')\n",
        "plt.axis([0, np.pi, 0, 2])\n",
        "plt.legend()\n",
        "\n",
        "# Computar valor medio del periodograma\n",
        "print('Mean value of the periodogram: %f' %np.mean(np.abs(Pxx)))"
      ],
      "metadata": {
        "id": "bAxZnasv3hBy"
      },
      "execution_count": null,
      "outputs": []
    },
    {
      "cell_type": "markdown",
      "source": [
        "# **Power Espectral Density (PSD)**"
      ],
      "metadata": {
        "id": "KIQkMqpB3yyI"
      }
    },
    {
      "cell_type": "markdown",
      "source": [
        "Con el Teorema de Wiener Kinchin"
      ],
      "metadata": {
        "id": "e_OSx3ZS4jln"
      }
    },
    {
      "cell_type": "code",
      "source": [
        "import numpy as np\n",
        "import matplotlib.pyplot as plt\n",
        "\n",
        "N = 1000  # número de muestras\n",
        "A = 2  # Amplitud\n",
        "tau = 100  # Ancho de la función rect\n",
        "t = np.arange(-N/2, N/2)  # Vector de tiempo\n",
        "x = A * np.where(np.abs(t) <= tau/2, 1, 0)  # Función rectangular\n",
        "\n",
        "# Estimación de la función de autocorrelación mediante el teorema de Wiener-Khinchin\n",
        "X = np.fft.fft(x)  # Transformada de Fourier de la función rectangular\n",
        "Sxx = np.abs(X)**2 / N  # Espectro de potencia\n",
        "Rxx = np.real(np.fft.ifft(Sxx))  # Función de autocorrelación\n",
        "\n",
        "# Plot de la función de autocorrelación\n",
        "plt.figure()\n",
        "plt.plot(t, Rxx, label='Rxx(t)')\n",
        "plt.title('Función de autocorrelación')\n",
        "plt.xlabel('t')\n",
        "plt.ylabel('Rxx(t)')\n",
        "plt.legend()\n",
        "\n",
        "# Plot de la función rectangular original\n",
        "plt.figure()\n",
        "plt.plot(t, x, label='X(t)')\n",
        "plt.title('Función rectangular original')\n",
        "plt.xlabel('t')\n",
        "plt.ylabel('X(t)')\n",
        "plt.legend()"
      ],
      "metadata": {
        "id": "zhhs36EV4oG_"
      },
      "execution_count": null,
      "outputs": []
    },
    {
      "cell_type": "markdown",
      "source": [
        "2 Prueba"
      ],
      "metadata": {
        "id": "OpXI4cP350Cc"
      }
    },
    {
      "cell_type": "code",
      "source": [
        "import numpy as np\n",
        "import matplotlib.pyplot as plt\n",
        "import scipy.signal as sig\n",
        "\n",
        "N = 1000  # número de muestras\n",
        "A = 2  # Amplitud\n",
        "tau = 100  # Ancho de la función rect\n",
        "\n",
        "# Generar señal. rectangular\n",
        "t = np.arange(-N/2, N/2)  # Vector de tiempo\n",
        "x = A * np.where(np.abs(t) <= tau/2, 1, 0)  # Función rectangular\n",
        "\n",
        "# Agregar ruido a la señal. rectangular\n",
        "x = x + np.random.normal(size=x.shape, scale=.1)\n",
        "\n",
        "# Estimación de la función de autocorrelación mediante el Teorema de Wiener-Khinchin\n",
        "X = np.fft.fft(x)  # Transformada de Fourier de la función rectangular\n",
        "Sxx = np.abs(X)**2 / N  # Espectro de potencia\n",
        "Rxx = np.real(np.fft.ifft(Sxx))  # Función de autocorrelación\n",
        "\n",
        "# Plot de la función de autocorrelación\n",
        "plt.figure()\n",
        "plt.plot(t, Rxx, label='Rxx(t)')\n",
        "plt.title('Función de autocorrelación')\n",
        "plt.xlabel('t')\n",
        "plt.ylabel('Rxx(t)')\n",
        "plt.legend()\n",
        "\n",
        "# Plot de la función rectangular original\n",
        "plt.figure()\n",
        "plt.plot(t, x, label='X(t)')\n",
        "plt.title('Función rectangular original')\n",
        "plt.xlabel('t')\n",
        "plt.ylabel('X(t)')\n",
        "plt.legend()\n",
        "\n",
        "# Estimación de la respuesta impulsiva del sistema\n",
        "h = np.concatenate((np.zeros(20), np.ones(10), np.zeros(20)))\n",
        "y = np.convolve(h, x, mode='full')\n",
        "y = y + np.random.normal(size=y.shape, scale=.1)\n",
        "\n",
        "# Zero-padding de la señal. de entrada\n",
        "x = np.concatenate((x, np.zeros(len(h)-1)))\n",
        "H = np.fft.rfft(y)/np.fft.rfft(x)\n",
        "he = np.fft.irfft(H)\n",
        "he = he[0:len(h)]\n",
        "\n",
        "# Plot de la respuesta impulsiva estimada\n",
        "plt.figure()\n",
        "plt.stem(he, label='estimated')\n",
        "plt.plot(h, 'g-', label='true')\n",
        "plt.title('Estimated impulse response')\n",
        "plt.xlabel(r'$k$')\n",
        "plt.ylabel(r'$\\hat{h}[k]$')\n",
        "plt.legend()"
      ],
      "metadata": {
        "id": "1BFnYFQQ5dJ0"
      },
      "execution_count": null,
      "outputs": []
    },
    {
      "cell_type": "markdown",
      "source": [
        "Con todo"
      ],
      "metadata": {
        "id": "phqVGq-O52e4"
      }
    },
    {
      "cell_type": "code",
      "source": [
        "import numpy as np\n",
        "import matplotlib.pyplot as plt\n",
        "import scipy.signal as sig\n",
        "\n",
        "fs = 44100\n",
        "N = 5*fs\n",
        "A = 2  # Amplitud\n",
        "tau = 100  # Ancho de la función rect\n",
        "\n",
        "# Generar señal rectangular\n",
        "t = np.arange(-N/2, N/2) / fs  # Vector de tiempo\n",
        "x = A * np.where(np.abs(t) <= tau/2/fs, 1, 0)  # Función rectangular\n",
        "\n",
        "# Estimación de la función de autocorrelación mediante el Teorema de Wiener-Khinchin\n",
        "X = np.fft.fft(x)  # Transformada de Fourier de la función rectangular\n",
        "Sxx = np.abs(X)**2 / N  # Espectro de potencia\n",
        "Rxx = np.real(np.fft.ifft(Sxx))  # Función de autocorrelación\n",
        "\n",
        "# Plot de la función de autocorrelación\n",
        "plt.figure()\n",
        "plt.plot(t, Rxx, label='Rxx(t)')\n",
        "plt.title('Función de autocorrelación')\n",
        "plt.xlabel('t')\n",
        "plt.ylabel('Rxx(t)')\n",
        "plt.legend()\n",
        "\n",
        "# Plot de la función rectangular original\n",
        "plt.figure()\n",
        "plt.plot(t, x, label='X(t)')\n",
        "plt.title('Función rectangular original')\n",
        "plt.xlabel('t')\n",
        "plt.ylabel('X(t)')\n",
        "plt.legend()\n",
        "\n",
        "#############################################\n",
        "\n",
        "N = 1000  # número de muestras\n",
        "A = 2  # Amplitud\n",
        "tau = 100  # Ancho de la función rect\n",
        "\n",
        "# Generar señal. rectangular\n",
        "t = np.arange(-N/2, N/2)  # Vector de tiempo\n",
        "x = A * np.where(np.abs(t) <= tau/2, 1, 0)  # Función rectangular\n",
        "\n",
        "# Agregar ruido a la señal. rectangular\n",
        "x = x + np.random.normal(size=x.shape, scale=.1)\n",
        "\n",
        "# Estimación de la función de autocorrelación mediante el Teorema de Wiener-Khinchin\n",
        "X = np.fft.fft(x)  # Transformada de Fourier de la función rectangular\n",
        "Sxx = np.abs(X)**2 / N  # Espectro de potencia\n",
        "Rxx = np.real(np.fft.ifft(Sxx))  # Función de autocorrelación\n",
        "\n",
        "# Plot de la función de autocorrelación\n",
        "plt.figure()\n",
        "plt.plot(t, Rxx, label='Rxx(t)')\n",
        "plt.title('Función de autocorrelación')\n",
        "plt.xlabel('t')\n",
        "plt.ylabel('Rxx(t)')\n",
        "plt.legend()\n",
        "\n",
        "# Plot de la función rectangular original\n",
        "plt.figure()\n",
        "plt.plot(t, x, label='X(t)')\n",
        "plt.title('Función rectangular original')\n",
        "plt.xlabel('t')\n",
        "plt.ylabel('X(t)')\n",
        "plt.legend()\n",
        "\n",
        "# Estimación de la respuesta impulsiva del sistema\n",
        "h = np.concatenate((np.zeros(20), np.ones(10), np.zeros(20)))\n",
        "y = np.convolve(h, x, mode='full')\n",
        "y = y + np.random.normal(size=y.shape, scale=.1)\n",
        "\n",
        "# Zero-padding de la señal. de entrada\n",
        "x = np.concatenate((x, np.zeros(len(h)-1)))\n",
        "H = np.fft.rfft(y)/np.fft.rfft(x)\n",
        "he = np.fft.irfft(H)\n",
        "he = he[0:len(h)]\n",
        "\n",
        "# Plot de la respuesta impulsiva estimada\n",
        "plt.figure()\n",
        "plt.stem(he, label='estimated')\n",
        "plt.plot(h, 'g-', label='true')\n",
        "plt.title('Estimated impulse response')\n",
        "plt.xlabel(r'$k$')\n",
        "plt.ylabel(r'$\\hat{h}[k]$')\n",
        "plt.legend()"
      ],
      "metadata": {
        "id": "QkktYCw952BH"
      },
      "execution_count": null,
      "outputs": []
    }
  ]
}