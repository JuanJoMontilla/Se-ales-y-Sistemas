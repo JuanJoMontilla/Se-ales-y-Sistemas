{
  "nbformat": 4,
  "nbformat_minor": 0,
  "metadata": {
    "colab": {
      "provenance": [],
      "authorship_tag": "ABX9TyN7hCEPQJPD9uJgqqyzq71j",
      "include_colab_link": true
    },
    "kernelspec": {
      "name": "python3",
      "display_name": "Python 3"
    },
    "language_info": {
      "name": "python"
    }
  },
  "cells": [
    {
      "cell_type": "markdown",
      "metadata": {
        "id": "view-in-github",
        "colab_type": "text"
      },
      "source": [
        "<a href=\"https://colab.research.google.com/github/JuanJoMontilla/Senales-y-Sistemas/blob/main/Ejercicios%20y%20Tareas%202024-I/Filtros%20PB%2CPA%2CPB%2CRB.ipynb\" target=\"_parent\"><img src=\"https://colab.research.google.com/assets/colab-badge.svg\" alt=\"Open In Colab\"/></a>"
      ]
    },
    {
      "cell_type": "markdown",
      "source": [
        "# **Filtro Pasa Bajas**"
      ],
      "metadata": {
        "id": "jLqCWpdbgTSq"
      }
    },
    {
      "cell_type": "code",
      "source": [
        "from scipy.signal import ellip, lfilter, filtfilt\n",
        "\n",
        "filtro = \"lowpass\"\n",
        "fs = 1600 #Frecuencia de muestreo (Hz)\n",
        "frec_corte = fs/10 #Frecuencia de corte (Hz)\n",
        "ord = 10 #Se define el orden de la señal a trabajar\n",
        "rp = 1 #Ripple en la banda de paso (dB) osea la cantidad de ripple permitida en la banda de paso\n",
        "rs = fs/25 #Atenuación en la banda de stop (dB) osea la atenuación mínima requerida en la banda de stop\n",
        "x = \"onda a trabajar\"\n",
        "\n",
        "num, den = ellip(ord, rp, rs, frec_corte / (fs/2), btype = filtro)\n",
        "\n",
        "###\n",
        "y = lfilter(num, den, x) #Se utiliza el filtro pasa altas\n",
        "###\n",
        "\n",
        "#import soundfile as sf # para instalar pip install soundfile\n",
        "#lee archivos wav\n",
        "#nombre_out = \"output.wav\"\n",
        "#x, fs = sf.read(nombre_out)\n",
        "#xpro = x.copy() #copiar archivos para procesar\n",
        "#ti = 30\n",
        "#tf = 50\n",
        "#xs = xpro[int(ti*fs):int((tf*fs)),:]\n",
        "#from IPython.display import Audio\n",
        "#xf = filtfilt(num, den, xs, axis=0)\n",
        "#Audio([xf[:,1], xf[:,0]],rate=fs) #Resultado"
      ],
      "metadata": {
        "id": "z-K3_D5agg3l"
      },
      "execution_count": null,
      "outputs": []
    },
    {
      "cell_type": "markdown",
      "source": [
        "# **Filtro Pasa Altas**"
      ],
      "metadata": {
        "id": "77Ofvf5Fgixm"
      }
    },
    {
      "cell_type": "code",
      "source": [
        "from scipy.signal import ellip, lfilter, filtfilt\n",
        "\n",
        "filtro = \"highpass\"\n",
        "fs = 1000.0 #Frecuencia de muestreo (Hz)\n",
        "frec_corte = fs/10 #Frecuencia de corte (Hz)\n",
        "ord = 4 #Se define el orden de la señal a trabajar\n",
        "rp = 0.5 #Ripple en la banda de paso (dB) osea la cantidad de ripple permitida en la banda de paso\n",
        "rs = fs/25 #Atenuación en la banda de stop (dB) osea la atenuación mínima requerida en la banda de stop\n",
        "x = \"onda a trabajar\"\n",
        "\n",
        "num, den = ellip(ord, rp, rs, frec_corte / (fs/2), btype = filtro)\n",
        "###\n",
        "y = lfilter(num, den, x) #Se utiliza el filtro pasa altas\n",
        "###\n",
        "\n",
        "#import soundfile as sf # para instalar pip install soundfile\n",
        "#lee archivos wav\n",
        "#nombre_out = \"output.wav\"\n",
        "#x, fs = sf.read(nombre_out)\n",
        "#xpro = x.copy() #copiar archivos para procesar\n",
        "#ti = 30\n",
        "#tf = 50\n",
        "#xs = xpro[int(ti*fs):int((tf*fs)),:]\n",
        "#from IPython.display import Audio\n",
        "#xf = filtfilt(num, den, xs, axis=0)\n",
        "#Audio([xf[:,1], xf[:,0]],rate=fs) #Resultado"
      ],
      "metadata": {
        "id": "fAPQYjkZgofY"
      },
      "execution_count": null,
      "outputs": []
    },
    {
      "cell_type": "markdown",
      "source": [
        "# **Filtro Pasa Bandas**"
      ],
      "metadata": {
        "id": "2R8jpCaLgppf"
      }
    },
    {
      "cell_type": "code",
      "source": [
        "from scipy.signal import ellip, lfilter, filtfilt\n",
        "\n",
        "filtro = \"bandpass\"\n",
        "fs = 1000.0 #Frecuencia de muestreo (Hz)\n",
        "ord = 4 #Se define el orden de la señal a trabajar\n",
        "rp = 0.5 #Ripple en la banda de paso (dB) osea la cantidad de ripple permitida en la banda de paso\n",
        "rs = fs/25 #Atenuación en la banda de stop (dB) osea la atenuación mínima requerida en la banda de stop\n",
        "f_at = fs/ord #Frecuencia superior de la banda de paso (Hz)\n",
        "f_bj = f_at-(fs/10) #Frecuencia inferior de la banda de paso (Hz)\n",
        "x = \"onda a trabajar\"\n",
        "\n",
        "num, den = ellip(ord, rp, rs, (f_bj, f_at) / (fs/2), btype = filtro)\n",
        "\n",
        "###\n",
        "y = lfilter(num, den, x) #Se utiliza el filtro pasa altas\n",
        "###\n",
        "\n",
        "#import soundfile as sf # para instalar pip install soundfile\n",
        "#lee archivos wav\n",
        "#nombre_out = \"output.wav\"\n",
        "#x, fs = sf.read(nombre_out)\n",
        "#xpro = x.copy() #copiar archivos para procesar\n",
        "#ti = 30\n",
        "#tf = 50\n",
        "#xs = xpro[int(ti*fs):int((tf*fs)),:]\n",
        "#from IPython.display import Audio\n",
        "#xf = filtfilt(num, den, xs, axis=0)\n",
        "#Audio([xf[:,1], xf[:,0]],rate=fs) #Resultado"
      ],
      "metadata": {
        "id": "ZzRVzjFeg_5u"
      },
      "execution_count": null,
      "outputs": []
    },
    {
      "cell_type": "markdown",
      "source": [
        "# **Filtro Rechaza Bandas**"
      ],
      "metadata": {
        "id": "oCdgo_Elgwth"
      }
    },
    {
      "cell_type": "code",
      "source": [
        "from scipy.signal import ellip, lfilter, filtfilt\n",
        "\n",
        "filtro = \"bandstop\"\n",
        "fs = 1000.0 #Frecuencia de muestreo (Hz)\n",
        "ord = 4 #Se define el orden de la señal a trabajar\n",
        "rp = 0.5 #Ripple en la banda de paso (dB) osea la cantidad de ripple permitida en la banda de paso\n",
        "rs = fs/25 #Atenuación en la banda de stop (dB) osea la atenuación mínima requerida en la banda de stop\n",
        "f_sp_at = 45.0 #Frecuencia superior de la banda de paso (Hz)\n",
        "f_sp_bj = 65.0 #Frecuencia inferior de la banda de paso (Hz)\n",
        "x = \"onda a trabajar\"\n",
        "#En este caso estaria atenuando las frecuencias de banda entre 45 y 65 Hz y deja pasar las demás frecuencias\n",
        "\n",
        "num, den = ellip(ord, rp, rs, (f_sp_bj, f_sp_at) / (fs/2), btype = filtro)\n",
        "\n",
        "###\n",
        "y = lfilter(num, den, x) #Se utiliza el filtro pasa altas\n",
        "###\n",
        "\n",
        "#import soundfile as sf # para instalar pip install soundfile\n",
        "#lee archivos wav\n",
        "#nombre_out = \"output.wav\"\n",
        "#x, fs = sf.read(nombre_out)\n",
        "#xpro = x.copy() #copiar archivos para procesar\n",
        "#ti = 30\n",
        "#tf = 50\n",
        "#xs = xpro[int(ti*fs):int((tf*fs)),:]\n",
        "#from IPython.display import Audio\n",
        "#xf = filtfilt(num, den, xs, axis=0)\n",
        "#Audio([xf[:,1], xf[:,0]],rate=fs) #Resultado"
      ],
      "metadata": {
        "id": "JXTGBEtOhAVS"
      },
      "execution_count": null,
      "outputs": []
    }
  ]
}