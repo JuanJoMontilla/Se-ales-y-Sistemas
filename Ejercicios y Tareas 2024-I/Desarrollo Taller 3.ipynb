{
  "nbformat": 4,
  "nbformat_minor": 0,
  "metadata": {
    "colab": {
      "provenance": [],
      "authorship_tag": "ABX9TyOrN/ibBuvUMqo/cemCmqbX",
      "include_colab_link": true
    },
    "kernelspec": {
      "name": "python3",
      "display_name": "Python 3"
    },
    "language_info": {
      "name": "python"
    }
  },
  "cells": [
    {
      "cell_type": "markdown",
      "metadata": {
        "id": "view-in-github",
        "colab_type": "text"
      },
      "source": [
        "<a href=\"https://colab.research.google.com/github/JuanJoMontilla/Senales-y-Sistemas/blob/main/Ejercicios%20y%20Tareas%202024-I/Desarrollo%20Taller%203.ipynb\" target=\"_parent\"><img src=\"https://colab.research.google.com/assets/colab-badge.svg\" alt=\"Open In Colab\"/></a>"
      ]
    },
    {
      "cell_type": "code",
      "execution_count": 1,
      "metadata": {
        "colab": {
          "base_uri": "https://localhost:8080/",
          "height": 133
        },
        "id": "SB3TwEsDJNc9",
        "outputId": "8d505515-8b0f-4984-ad2c-de85772b8496"
      },
      "outputs": [
        {
          "output_type": "display_data",
          "data": {
            "text/plain": [
              "K*s**n/(s**2 + 1)**m"
            ],
            "text/latex": "$\\displaystyle K s^{n} \\left(s^{2} + 1\\right)^{- m}$"
          },
          "metadata": {}
        },
        {
          "output_type": "stream",
          "name": "stdout",
          "text": [
            " 2⋅s  \n",
            "──────\n",
            " 2    \n",
            "s  + 1\n",
            "ROC: Re{s} > -1\n"
          ]
        }
      ],
      "source": [
        "import sympy as sp\n",
        "\n",
        "s = sp.symbols('s', complex=True) #Se define las variables simbólicas\n",
        "K, n, m = sp.symbols('K n m', complex=True)\n",
        "X_s = K * (s**n) / ((s**2 + 1)**m) #Se define la función X(s) basada en el diagrama\n",
        "display(X_s) #Se muestra la función de transferencia\n",
        "\n",
        "#Determinamos el ROC\n",
        "X_s_eval = X_s.subs({K: 2, n: 1, m: 1}) #Asumimos que m = 1, n = 1 y K = 2\n",
        "ROC = sp.And(sp.re(s) > 0, sp.re(s) != 0)#Para un sistema con polos en s = ±j, el ROC dependerá de la estabilidad y la causalidad del sistema\n",
        "\n",
        "#Se muestra la función de transferencia y el ROC\n",
        "sp.pprint(X_s_eval)\n",
        "print(\"ROC: Re{s} > -1\")"
      ]
    }
  ]
}