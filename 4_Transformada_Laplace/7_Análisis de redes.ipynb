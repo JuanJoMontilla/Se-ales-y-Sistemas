{
  "nbformat": 4,
  "nbformat_minor": 0,
  "metadata": {
    "colab": {
      "name": "Análisis de redes.ipynb",
      "provenance": [],
      "include_colab_link": true
    },
    "kernelspec": {
      "display_name": "Python 3",
      "language": "python",
      "name": "python3"
    },
    "language_info": {
      "codemirror_mode": {
        "name": "ipython",
        "version": 3
      },
      "file_extension": ".py",
      "mimetype": "text/x-python",
      "name": "python",
      "nbconvert_exporter": "python",
      "pygments_lexer": "ipython3",
      "version": "3.7.1"
    }
  },
  "cells": [
    {
      "cell_type": "markdown",
      "metadata": {
        "id": "view-in-github",
        "colab_type": "text"
      },
      "source": [
        "<a href=\"https://colab.research.google.com/github/JuanJoMontilla/Senales-y-Sistemas/blob/main/4_Transformada_Laplace/7_An%C3%A1lisis%20de%20redes.ipynb\" target=\"_parent\"><img src=\"https://colab.research.google.com/assets/colab-badge.svg\" alt=\"Open In Colab\"/></a>"
      ]
    },
    {
      "cell_type": "markdown",
      "metadata": {
        "id": "gUPG4eQphFhD",
        "nbsphinx": "hidden"
      },
      "source": [
        "# Transformada de Laplace\n",
        "\n",
        "*This Jupyter notebook is part of a [collection of notebooks](../index.ipynb) in the bachelors module Signals and Systems, Communications Engineering, Universität Rostock. Please direct questions and suggestions to [Sascha.Spors@uni-rostock.de](mailto:Sascha.Spors@uni-rostock.de).*"
      ]
    },
    {
      "cell_type": "markdown",
      "metadata": {
        "id": "fICuaGn_hFhI"
      },
      "source": [
        "## Análisis de redes con elementos pasivos\n",
        "\n",
        "- Es bien sabido que la transformada de Laplace es una herramienta para resolver ecuaciones diferencial tomando en cuenta los valores iniciales.\n",
        "\n",
        "- Las [redes electricas](https://en.wikipedia.org/wiki/Electrical_network) compuestas por elementos pasivos lineales, como resistores, capacitores e inductores pueden ser descritas matemáticamente por ecuaciones diferenciales ordinarias lineales (ODEs) con coeficientes constantes. La transformada de Laplace permite el análisis de dichas redes."
      ]
    },
    {
      "cell_type": "markdown",
      "metadata": {
        "id": "M6fNHWhghFhL"
      },
      "source": [
        "### Impedancias complejas y redes equivalentes\n",
        "\n",
        "- El concepto de impedancias complejas es utilizado para analizar redes eléctricas pasivas en el dominio de Laplace.\n",
        "\n",
        "- Primero se observarán las ecuaciones diferenciales que describen la relación entre el voltaje $u(t)$ y la corriente $i(t)$ para elementos lineales pasivos. Son resumidas en la segunda columna de la siguiente tabla:\n",
        "\n",
        "| Elemento | $\\quad \\qquad \\qquad \\quad \\quad$ Dominio del Tiempo $\\qquad \\qquad \\qquad \\quad \\quad$ | $\\qquad \\qquad$ Dominio de Laplace $ \\qquad \\quad$ | Impedancia $Z(s)$ |\n",
        "|:---:|:---:|:---:|:---:|\n",
        "| ![Resistor](https://github.com/amalvarezme/SenalesSistemas/blob/master/4_Transformada_Laplace/resistor.png?raw=1) | $u(t) = R \\cdot i(t)$ | $U(s) = R \\cdot I(s)$ | $R$ |\n",
        "| ![Inductor](https://github.com/amalvarezme/SenalesSistemas/blob/master/4_Transformada_Laplace/inductor.png?raw=1) | $\\begin{matrix} u(t) = L \\frac{d}{dt} i(t) \\\\ i(t) = \\frac{1}{L} \\int_{0}^{t} u(\\tau) d\\tau + i(0+) \\epsilon(t) \\end{matrix}$ | $\\begin{matrix} U(s) = s L I(s) - L i(0+) \\\\ I(s) = \\frac{1}{s L} U(s) + \\frac{1}{s} i(0+) \\end{matrix}$ | $s L$ |\n",
        "| ![Capacitor](https://github.com/amalvarezme/SenalesSistemas/blob/master/4_Transformada_Laplace/capacitor.png?raw=1) | $\\begin{matrix} u(t) = \\frac{1}{C} \\int_{0}^{t} i(\\tau) d\\tau + u(0+) \\epsilon(t) \\\\ i(t) = C \\frac{d}{dt} u(t) \\end{matrix}$ | $\\begin{matrix} U(s) = \\frac{1}{s C} I(s) + \\frac{1}{s} u(0+) \\\\ I(s) = s C U(s) - C u(0+) \\end{matrix}$ | $\\frac{1}{s C}$\n",
        "\n",
        "- Se asume que el voltaje $u(t)=0$ y la corriente $i(t)=0$ para $t<0$, por lo tanto son señales causales.\n",
        "\n",
        "- Los valores inciales $u(0+)$ e $i(0+)$ indican los valores iniciales para $t=0$ por la derecha: $u(0+) = \\lim_{\\epsilon \\to 0} u(0 + \\epsilon)$.\n",
        "\n",
        "- Los valores iniciales representan la energía almacenada en los capacitores y los inductores en el instante $t=0$ respectivamente. El análisis de una red eléctrica pasiva se realiza mediante las [leyes de Kirchhoff](https://en.wikipedia.org/wiki/Kirchhoff's_circuit_laws) dando como resultado una ODE, describiendo la relación entre los voltajes de entrada y salida.\n",
        "\n",
        "- Las relaciones en el dominio del tiempo pueden ser transformadas al dominio de Laplace, aplicando los [teoremas de derivación e integración] de la transformada de Laplace. Los resultados son resumidos en la tercera columna.\n",
        "\n",
        "- La derivación e integración se representan por operaciones algebráicas.\n",
        "\n",
        "- Cuando los valores iniciales $u(0+)$ o $i(0+)$ son cero, los elementos pueden ser caracterizados en el dominio de Laplace por sus [impedancias complejas](https://en.wikipedia.org/wiki/Electrical_impedance). La impedancia compleja $Z(s)$ se define a continuación:\n",
        "\n",
        "\\begin{equation}\n",
        "Z(s) = \\frac{U(s)}{I(s)}\n",
        "\\end{equation}\n",
        "\n",
        "- Las impedancias complejas pueden ser usadas para representar una red eléctrica pasiva en el dominio de Laplace.\n",
        "\n",
        "- El análisis de una red eléctrica en el dominio de Laplace se ilustra en el ejemplo de la siguiente sección. Observe que consideraciones similares aplican para sistemas mecánicos y otros problemas descritos por ODEs."
      ]
    },
    {
      "cell_type": "markdown",
      "metadata": {
        "id": "lafZ8GyshFhO"
      },
      "source": [
        "### Ejemplo: Filtro Pasa Bajo de Segundo Orden\n",
        "\n",
        "Se calculará la respuesta al escalón con valores iniciales cero. Posteriormente, se extiende el análisis para valores iniciales distintos a cero."
      ]
    },
    {
      "cell_type": "markdown",
      "metadata": {
        "id": "Gy3dS8iahFhS"
      },
      "source": [
        "## Señal de salida para valores iniciales iguales a cero\n",
        "\n",
        "Se asume que no hay energía almacenada en el capacitor ni en el inductor para $t<0$. En consecuencia, los valores iniciales se pueden descartar. La red equivalente en el dominio de Laplace se deriva al transformar la entrada $x(t)$ y la salida $y(t)$, e introducir las impedancias complejas de la anterior tabla de elementos.\n",
        "\n",
        "![Red equivalente en el dominio de Laplace](https://github.com/amalvarezme/SenalesSistemas/blob/master/4_Transformada_Laplace/lowpass_laplace_domain.png?raw=1)\n",
        "\n",
        "Aplicando las  [leyes de Kirchhoff](https://en.wikipedia.org/wiki/Kirchhoff's_circuit_laws) con impedancias complejas de los elementos de la red, se tiene la salida $Y(s)$ relacionada con la entrada $X(s)$ en el dominio de Laplace:\n",
        "\n",
        "\\begin{equation}\n",
        "Y(s) = \\frac{1}{LC s^2 + RC s + 1} \\cdot X(s)\n",
        "\\end{equation}\n",
        "\n",
        "Esta relación se define con `SymPy` para su posterior evaluación"
      ]
    },
    {
      "cell_type": "code",
      "metadata": {
        "id": "ErBMcGP7hFhV",
        "outputId": "9b107ae6-95df-4d35-ff66-ee9e88bfb060",
        "colab": {
          "base_uri": "https://localhost:8080/",
          "height": 54
        }
      },
      "source": [
        "%matplotlib inline\n",
        "import sympy as sym\n",
        "sym.init_printing()\n",
        "\n",
        "s = sym.symbols('s', complex=True)\n",
        "t, R, L, C = sym.symbols('t R L C', positive=True)\n",
        "X = sym.Function('X')(s)\n",
        "#función de salida Y(s) = H(s)X(s\n",
        "Y = 1/(L*C*s**2 + R*C*s + 1) * X\n",
        "Y"
      ],
      "execution_count": 1,
      "outputs": [
        {
          "output_type": "execute_result",
          "data": {
            "text/plain": [
              "       X(s)       \n",
              "──────────────────\n",
              "     2            \n",
              "C⋅L⋅s  + C⋅R⋅s + 1"
            ],
            "text/latex": "$\\displaystyle \\frac{X{\\left(s \\right)}}{C L s^{2} + C R s + 1}$"
          },
          "metadata": {},
          "execution_count": 1
        }
      ]
    },
    {
      "cell_type": "markdown",
      "metadata": {
        "id": "E12QzkcyhFhj"
      },
      "source": [
        "La respuesta $y(t)$ de la red ante una entrada [Heaviside], se cálcula con $x(t) = \\epsilon(t)$. La transformada de Laplace $Y(s)$ de la señal de salida está dada por:\n",
        "\n",
        "\\begin{equation}\n",
        "Y(s) = \\frac{1}{LC s^2 + RC s + 1} \\cdot \\frac{1}{s}\n",
        "\\end{equation}\n",
        "\n",
        "La señal de salida $y(t)$ es calculada mediante la transformada inversa de Laplace de $Y(s)$ para los siguientes valores:  $L = 0.5$, $R = 1$, $C = 0.4$."
      ]
    },
    {
      "cell_type": "code",
      "metadata": {
        "id": "DwdfLVREhFhm",
        "outputId": "4c321067-337f-4664-c4f8-0da55560df90",
        "colab": {
          "base_uri": "https://localhost:8080/",
          "height": 54
        }
      },
      "source": [
        "RLC = {R: 1, L: sym.Rational('.5'), C: sym.Rational('.4')}\n",
        "\n",
        "y = sym.inverse_laplace_transform(Y.subs(RLC).subs(X, 1/s), s, t)#recuerde que puede aplicar fracciones parciales para facilitar los cálculos\n",
        "y"
      ],
      "execution_count": 2,
      "outputs": [
        {
          "output_type": "execute_result",
          "data": {
            "text/plain": [
              "     -t                        \n",
              "    ℯ  ⋅sin(2⋅t)    -t         \n",
              "1 - ──────────── - ℯ  ⋅cos(2⋅t)\n",
              "         2                     "
            ],
            "text/latex": "$\\displaystyle 1 - \\frac{e^{- t} \\sin{\\left(2 t \\right)}}{2} - e^{- t} \\cos{\\left(2 t \\right)}$"
          },
          "metadata": {},
          "execution_count": 2
        }
      ]
    },
    {
      "cell_type": "markdown",
      "metadata": {
        "id": "sNGULsElhFhw"
      },
      "source": [
        "El resultado se simplifica para facilitar la visualización."
      ]
    },
    {
      "cell_type": "code",
      "metadata": {
        "id": "Zqw5suO1hFhz",
        "outputId": "c46b7134-4c39-4f21-ccdb-a50404ca7c0e",
        "colab": {
          "base_uri": "https://localhost:8080/",
          "height": 58
        }
      },
      "source": [
        "y = y.simplify()\n",
        "y"
      ],
      "execution_count": 3,
      "outputs": [
        {
          "output_type": "execute_result",
          "data": {
            "text/plain": [
              "⎛ t   sin(2⋅t)           ⎞  -t\n",
              "⎜ℯ  - ──────── - cos(2⋅t)⎟⋅ℯ  \n",
              "⎝        2               ⎠    "
            ],
            "text/latex": "$\\displaystyle \\left(e^{t} - \\frac{\\sin{\\left(2 t \\right)}}{2} - \\cos{\\left(2 t \\right)}\\right) e^{- t}$"
          },
          "metadata": {},
          "execution_count": 3
        }
      ]
    },
    {
      "cell_type": "code",
      "metadata": {
        "id": "S45u_d7ehFh9",
        "outputId": "c332ad6f-b2ac-494b-d067-b1240c3c85db",
        "colab": {
          "base_uri": "https://localhost:8080/",
          "height": 484
        }
      },
      "source": [
        "sym.plot(y, (t, 0, 5), xlabel='$t$', ylabel='$y(t)$');"
      ],
      "execution_count": 4,
      "outputs": [
        {
          "output_type": "display_data",
          "data": {
            "text/plain": [
              "<Figure size 640x480 with 1 Axes>"
            ],
            "image/png": "[encoded data removed]"
          },
          "metadata": {}
        }
      ]
    },
    {
      "cell_type": "markdown",
      "metadata": {
        "id": "ymSFqgf6hFiH"
      },
      "source": [
        "El cálculo de la señal de salida $y(t)$ no requiere de la solución de la ODE. Con base en la red equivalente en el dominio de Laplace, solo se requiere del cálculo de la transformada inversa de Laplace."
      ]
    },
    {
      "cell_type": "markdown",
      "metadata": {
        "id": "DXMgTSSChFiL"
      },
      "source": [
        "## Señal de salida incluyendo valores iniciales\n",
        "\n",
        "Ahora se realiza el análisis con valores iniciales diferentes de cero. Como valores iniciales se asume que, el voltaje $u_\\text{C}(0+) = -1$ en el capacitor y la corriente $i_\\text{L}(0+) = 0$ en el inductor. La red es analizada nuevamente con las leyes de Kirchhoff, pero ahora no se descartan los valores iniciales. Usando la representación en el dominio de Laplace de los elementos de la red de la tabla anterior, resulta en\n",
        "\n",
        "\\begin{align}\n",
        "Y(s) &= \\underbrace{\\frac{1}{L C s^2 + R C s + 1} \\cdot X(s)}_{Y_\\text{ext}(s)} \\\\\n",
        "&+ \\underbrace{\\frac{R C + L C s}{L C s^2 + R C s + 1} \\cdot y(0+) + \\frac{L}{L C s^2 + R C s + 1} \\cdot i_\\text{L}(0+)}_{Y_\\text{int}(s)}\n",
        "\\end{align}\n",
        "\n",
        "Donde el voltaje $u_\\text{C}(0+)$ en el capcitor es igual al valor inicial de la salida $y(0+)$.\n",
        "\n",
        "El índice para la corriente $i_\\text{L}(t)$ en el inductor se descarta por simplicidad. Los términos han sido ordenados con respecto a la dependencia con la entrada $X(s)$ y los valores iniciales $y(0+)$ y $i(0+)$.\n",
        "\n",
        "La parte de la salida que depende solo de la entrada se denomina parte *externa* $Y_\\text{ext}(s)$.\n",
        "\n",
        "La parte de la señal de salida que depende solo de los valores iniciales se denomina parte *interna* $Y_\\text{int}(s)$.\n",
        "\n",
        "La señal de salida está dada por la superposición de ambas partes\n",
        "\n",
        "\\begin{equation}\n",
        "y(t) = y_\\text{ext}(t) + y_\\text{int}(t)\n",
        "\\end{equation}\n",
        "\n",
        "Donde $y_\\text{ext}(t) = \\mathscr{L}^{-1} \\{ Y_\\text{ext}(s) \\}$ y $y_\\text{int}(t) = \\mathscr{L}^{-1} \\{ Y_\\text{int}(s) \\}$.\n",
        "\n",
        "La parte externa se calculó anteriormente."
      ]
    },
    {
      "cell_type": "code",
      "metadata": {
        "id": "CFxqeC7shFiO",
        "outputId": "03707c79-0f2d-4043-8f76-e01a0383f6f0",
        "colab": {
          "base_uri": "https://localhost:8080/",
          "height": 58
        }
      },
      "source": [
        "yext = y\n",
        "yext.simplify()"
      ],
      "execution_count": 5,
      "outputs": [
        {
          "output_type": "execute_result",
          "data": {
            "text/plain": [
              "⎛ t   sin(2⋅t)           ⎞  -t\n",
              "⎜ℯ  - ──────── - cos(2⋅t)⎟⋅ℯ  \n",
              "⎝        2               ⎠    "
            ],
            "text/latex": "$\\displaystyle \\left(e^{t} - \\frac{\\sin{\\left(2 t \\right)}}{2} - \\cos{\\left(2 t \\right)}\\right) e^{- t}$"
          },
          "metadata": {},
          "execution_count": 5
        }
      ]
    },
    {
      "cell_type": "markdown",
      "metadata": {
        "id": "5ii5HExlhFiZ"
      },
      "source": [
        "La transformada de Laplace de la parte interna $Y_\\text{int}(s)$ se define así"
      ]
    },
    {
      "cell_type": "code",
      "metadata": {
        "id": "u6gSBG-yhFie",
        "outputId": "fbf77572-d15c-4dda-fead-2c034a3660da",
        "colab": {
          "base_uri": "https://localhost:8080/",
          "height": 54
        }
      },
      "source": [
        "i0, y0 = sym.symbols('i0 y0', real=True)\n",
        "\n",
        "Yint = (R*C + L*C*s) / (L*C*s**2 + R*C*s + 1) * y0 + L / (L*C*s**2 + R*C*s + 1) * i0\n",
        "Yint"
      ],
      "execution_count": 6,
      "outputs": [
        {
          "output_type": "execute_result",
          "data": {
            "text/plain": [
              "       L⋅i₀           y₀⋅(C⋅L⋅s + C⋅R) \n",
              "────────────────── + ──────────────────\n",
              "     2                    2            \n",
              "C⋅L⋅s  + C⋅R⋅s + 1   C⋅L⋅s  + C⋅R⋅s + 1"
            ],
            "text/latex": "$\\displaystyle \\frac{L i_{0}}{C L s^{2} + C R s + 1} + \\frac{y_{0} \\left(C L s + C R\\right)}{C L s^{2} + C R s + 1}$"
          },
          "metadata": {},
          "execution_count": 6
        }
      ]
    },
    {
      "cell_type": "markdown",
      "metadata": {
        "collapsed": true,
        "id": "HBQw4d1vhFip"
      },
      "source": [
        "La transformada inversa de Laplace se calcula para valores inciales $y(0+)$ e $i(0+)$, y los valores de $R$, $L$ and $C$ dados anteriormente"
      ]
    },
    {
      "cell_type": "code",
      "metadata": {
        "id": "92In1D4NhFiq",
        "outputId": "efe81b94-24c7-4af0-96a7-491ee607a3d2",
        "colab": {
          "base_uri": "https://localhost:8080/",
          "height": 54
        }
      },
      "source": [
        "yint = sym.inverse_laplace_transform(Yint.subs(RLC).subs(i0, 0).subs(y0, -1), s, t)\n",
        "yint"
      ],
      "execution_count": 7,
      "outputs": [
        {
          "output_type": "execute_result",
          "data": {
            "text/plain": [
              "   -t                        \n",
              "  ℯ  ⋅sin(2⋅t)    -t         \n",
              "- ──────────── - ℯ  ⋅cos(2⋅t)\n",
              "       2                     "
            ],
            "text/latex": "$\\displaystyle - \\frac{e^{- t} \\sin{\\left(2 t \\right)}}{2} - e^{- t} \\cos{\\left(2 t \\right)}$"
          },
          "metadata": {},
          "execution_count": 7
        }
      ]
    },
    {
      "cell_type": "markdown",
      "metadata": {
        "id": "XMAADzK-hFix"
      },
      "source": [
        "La señal de salida $y(t)$ está dada por la superposición de ambas partes"
      ]
    },
    {
      "cell_type": "code",
      "metadata": {
        "id": "AEIgNtOShFiz",
        "outputId": "dc026a03-94ef-4918-b610-a5802a36c9a0",
        "colab": {
          "base_uri": "https://localhost:8080/",
          "height": 38
        }
      },
      "source": [
        "y = yext + yint\n",
        "y.simplify()"
      ],
      "execution_count": 8,
      "outputs": [
        {
          "output_type": "execute_result",
          "data": {
            "text/plain": [
              "⎛ t                        ⎞  -t\n",
              "⎝ℯ  - sin(2⋅t) - 2⋅cos(2⋅t)⎠⋅ℯ  "
            ],
            "text/latex": "$\\displaystyle \\left(e^{t} - \\sin{\\left(2 t \\right)} - 2 \\cos{\\left(2 t \\right)}\\right) e^{- t}$"
          },
          "metadata": {},
          "execution_count": 8
        }
      ]
    },
    {
      "cell_type": "markdown",
      "metadata": {
        "id": "zlc1ahouhFi7"
      },
      "source": [
        "En la siguiente gráfica se presentan: la parte interna $y_\\text{int}(t)$ (Línea verde), la parte externa $y_\\text{ext}(t)$ (Línea azul), y señal de salida $y(t)$ (Línea roja)"
      ]
    },
    {
      "cell_type": "code",
      "metadata": {
        "id": "nOyV3U2thFi9",
        "outputId": "f19080ec-bc65-4688-dc5e-cd6136c75624",
        "colab": {
          "base_uri": "https://localhost:8080/",
          "height": 486
        }
      },
      "source": [
        "p1 = sym.plot(yext, (t, 0, 5), line_color='b', xlabel='$t$', ylabel='$y(t)$', show=False)\n",
        "p2 = sym.plot(yint, (t, 0, 5), line_color='g', show=False)\n",
        "p3 = sym.plot(y, (t, 0, 5), line_color='r', show=False)\n",
        "p1.extend(p2)\n",
        "p1.extend(p3)\n",
        "p1.show()"
      ],
      "execution_count": 9,
      "outputs": [
        {
          "output_type": "display_data",
          "data": {
            "text/plain": [
              "<Figure size 640x480 with 1 Axes>"
            ],
            "image/png": "[encoded data removed]"
          },
          "metadata": {}
        }
      ]
    },
    {
      "cell_type": "markdown",
      "metadata": {
        "id": "5U8rbI0IhFjE",
        "nbsphinx": "hidden"
      },
      "source": [
        "**Copyright**\n",
        "\n",
        "The notebooks are provided as [Open Educational Resource](https://de.wikipedia.org/wiki/Open_Educational_Resources). Feel free to use the notebooks for your own educational purposes. The text is licensed under [Creative Commons Attribution 4.0](https://creativecommons.org/licenses/by/4.0/), the code of the IPython examples under the [MIT license](https://opensource.org/licenses/MIT). Please attribute the work as follows: *Lecture Notes on Signals and Systems* by Sascha Spors."
      ]
    }
  ]
}