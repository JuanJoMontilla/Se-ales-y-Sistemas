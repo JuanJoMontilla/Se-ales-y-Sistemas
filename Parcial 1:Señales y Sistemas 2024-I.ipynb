{
  "nbformat": 4,
  "nbformat_minor": 0,
  "metadata": {
    "colab": {
      "provenance": [],
      "authorship_tag": "ABX9TyOzRRxh7pXBkFFiiZZKOBIz",
      "include_colab_link": true
    },
    "kernelspec": {
      "name": "python3",
      "display_name": "Python 3"
    },
    "language_info": {
      "name": "python"
    }
  },
  "cells": [
    {
      "cell_type": "markdown",
      "metadata": {
        "id": "view-in-github",
        "colab_type": "text"
      },
      "source": [
        "<a href=\"https://colab.research.google.com/github/JuanJoMontilla/Senales-y-Sistemas/blob/main/Parcial%201%3ASe%C3%B1ales%20y%20Sistemas%202024-I.ipynb\" target=\"_parent\"><img src=\"https://colab.research.google.com/assets/colab-badge.svg\" alt=\"Open In Colab\"/></a>"
      ]
    },
    {
      "cell_type": "markdown",
      "source": [
        "Parcial 1: Señales y Sistemas 2024-I"
      ],
      "metadata": {
        "id": "xpY4ai7j8pCq"
      }
    },
    {
      "cell_type": "code",
      "source": [],
      "metadata": {
        "id": "pBzs_kNN8oX6"
      },
      "execution_count": null,
      "outputs": []
    },
    {
      "cell_type": "code",
      "execution_count": null,
      "metadata": {
        "id": "MShcQ2mN8iwB"
      },
      "outputs": [],
      "source": []
    }
  ]
}