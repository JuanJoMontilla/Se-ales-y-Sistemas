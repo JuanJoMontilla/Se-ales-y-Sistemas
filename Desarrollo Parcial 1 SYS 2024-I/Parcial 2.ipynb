{
  "nbformat": 4,
  "nbformat_minor": 0,
  "metadata": {
    "colab": {
      "provenance": [],
      "authorship_tag": "ABX9TyPvpwcg6VEUJ9q7F/Jvwhul",
      "include_colab_link": true
    },
    "kernelspec": {
      "name": "python3",
      "display_name": "Python 3"
    },
    "language_info": {
      "name": "python"
    }
  },
  "cells": [
    {
      "cell_type": "markdown",
      "metadata": {
        "id": "view-in-github",
        "colab_type": "text"
      },
      "source": [
        "<a href=\"https://colab.research.google.com/github/JuanJoMontilla/Senales-y-Sistemas/blob/main/Desarrollo%20Parcial%201%20SYS%202024-I/Parcial%202.ipynb\" target=\"_parent\"><img src=\"https://colab.research.google.com/assets/colab-badge.svg\" alt=\"Open In Colab\"/></a>"
      ]
    },
    {
      "cell_type": "markdown",
      "source": [
        "# **Parcial 2**\n"
      ],
      "metadata": {
        "id": "aXXAq4t22a8m"
      }
    },
    {
      "cell_type": "markdown",
      "source": [
        "# **Punto 4**"
      ],
      "metadata": {
        "id": "xqjjPEd1LYWJ"
      }
    },
    {
      "cell_type": "markdown",
      "source": [
        "**Consulte en que consiste la distorcion total de armonicos(Total Harmonic Distortion-(THD)) y el factor de potencia en un circuito electrico.**"
      ],
      "metadata": {
        "id": "MhgQlTowLcfr"
      }
    },
    {
      "cell_type": "markdown",
      "source": [
        "**THD:** Consiste en que se parte de un sistema ideal en el que la función de transferencia es lineal e invariante en el tiempo. Cuando una señal sinusoidal de frecuencia ω pasa por un dispositivo no ideal y no lineal, se añade contenido adicional en múltiplos nω (armónicos) de la frecuencia original. La THD es una medida de ese contenido de señal adicional no presente en la señal de entrada. Esta puede ser THD indicandonos con respecto al voltaje o tambien puede ser THDi la cual es con respecto a la corriente.\n",
        "\n",
        "**FP:** Es la relación entre la potencia real y la potencia aparente en un circuito o sistema de distribución. La potencia real se mide en W o kW, y es la que utilizan los motores, las luces y otros dispositivos para producir trabajo útil. La potencia aparente se mide en VA o kVA, que es la suma vectorial de la potencia real(trabajo util), la potencia reactiva(almacenada y liberada por inductores y condensadores y muestra el desplazamiento de fase entre las formas de onda de corriente y tensión) y la potencia armónica(la cual se pierde por distorsion armonica).\n"
      ],
      "metadata": {
        "id": "iDZr76V1N7lz"
      }
    },
    {
      "cell_type": "markdown",
      "source": [
        "**¿Como puede calcularse el THD desde la FFT?**"
      ],
      "metadata": {
        "id": "sizBPzH6SuZt"
      }
    },
    {
      "cell_type": "markdown",
      "source": [
        "Los pasos a seguir serian: 1)Realizar la FFT: Esto transforma la señal del dominio del tiempo al dominio de la frecuencia, permitiendo identificar las diferentes componentes de frecuencia, incluyendo la fundamental y los armónicos. 2)Identificar la frecuencia fundamental: Una vez que se tiene el espectro de frecuencias, se debe identificar la frecuencia fundamental V1, que es la frecuencia más baja y representa la señal principal. 3)Calcular las amplitudes de los armónicos: A partir del espectro de la FFT, se deben extraer las amplitudes de los armónicos\n",
        "Vn donde n es el número de armónico, comenzando desde el armonico 2 y tomando los componentes de frecuencia que son múltiplos enteros de la frecuencia fundamental. 4)Aplicar la fórmula del THD:\n",
        "\n",
        "$$THD = \\frac{\\sqrt{V_2+V_3+\\cdots V_n}}{V_1}$$\n",
        "\n",
        "donde $V_n$ es el valor del $n$-th armónico de la señal de salida del circuito (en términos de tensión) y $V_1$ es la componente (armónico fundamental)."
      ],
      "metadata": {
        "id": "jGpD3RCYTUVh"
      }
    },
    {
      "cell_type": "markdown",
      "source": [
        "**¿Como puede calcularse la distorsión del factor de potencia con base al THD?**"
      ],
      "metadata": {
        "id": "c_cLnfXKWkwe"
      }
    },
    {
      "cell_type": "markdown",
      "source": [
        "El factor de potencia de distorsión es la relación entre la potencia real y la potencia aparente debido a la distorsión armónica total (THD). No se pueden añadir condensadores a un circuito para compensar el factor de potencia de distorsión. La impedancia de los condensadores disminuye con la frecuencia. Por lo tanto, un condensador puede convertirse en un sumidero de armónicos de alta frecuencia. Se utilizan tipos especiales de transformadores o filtros armónicos sintonizados que constan de condensadores e inductores para corregir el factor de potencia de distorsión. El factor de potencia de distorsión se calcula de la siguiente manera:\n",
        "\n",
        "$$PF_{THD}=\\sqrt{\\frac{1}{1+(THD)^2}}$$"
      ],
      "metadata": {
        "id": "DbubD3A4WpG4"
      }
    },
    {
      "cell_type": "markdown",
      "source": [
        "**Genere un ejemplo ilustrativo para el calculo del THD y la distorsion del factor de potencia para un rectificador de onda completa con carga: i)Netamente resistiva y ii)Carga RC en serie.**"
      ],
      "metadata": {
        "id": "8PhezckMXvbZ"
      }
    },
    {
      "cell_type": "code",
      "source": [
        "#Carga netamente resisitiva\n",
        "\n",
        "import numpy as np\n",
        "import matplotlib.pyplot as plt\n",
        "\n",
        "Vin = 120 #Voltaje de entrada del circuito\n",
        "Rt = 5 #Relación de transformación 5:1\n",
        "R = input(\"Digite el valor de la resistencia en ohmios: \")#Resistencia de la carga\n",
        "\n",
        "#graficar_THD_FP()\n",
        "\n",
        "def calcular_THD_FPrc(Vin,Rt,R):\n",
        "  Iin = Vin / R #Corriente de entrada del circuito\n",
        "  Irms = Iin / Rt #Valor RMS de la corriente del circuito\n",
        "  Vrms = Vin / Rt #Valor RMS del voltaje del circuito\n",
        "  VPreal = (Vrms * np.sqrt(2)) - 1.4 #Voltaje pico real, se le resta 1.4 por la caída de tensión de los 2 diodos en serie\n",
        "  Vcd = (2 * VPreal) / np.pi #Voltaje de salida en cd\n",
        "  Icd = Vcd / R #Intensidad de salida en cd\n",
        "\n",
        "  Pin = Vrms * Irms #Calcula la potencia de entrada\n",
        "  Pout = Vcd * Icd #Calcula la potencia de salida\n",
        "  Efc = Pout / Pin #Calcula la eficiencia\n",
        "  THD = np.sqrt((Pin - Pout) / Pin) #Calcula el THD\n",
        "  FP = Efc / np.sqrt(1 - THD**2) #Calcula la distorsión del factor de potencia\n",
        "  return THD, FP\n",
        "\n",
        "def graficar_THD_FP(THD, FP):\n",
        "  fig, ax = plt.subplots(1, 2, figsize=(12, 6))\n",
        "  ax[0].plot(THD, label='THD')\n",
        "  ax[0].set_xlabel('Frecuencia (Hz)')\n",
        "  ax[0].set_ylabel('THD (%)')\n",
        "  ax[0].set_title('THD vs Frecuencia')\n",
        "  ax[0].legend()\n",
        "  ax[1].plot(FP, label='Factor de Potencia')\n",
        "  ax[1].set_xlabel('Frecuencia (Hz)')\n",
        "  ax[1].set_ylabel('Factor de Potencia')\n",
        "  ax[1].set_title('Factor de Potencia vs Frecuencia')\n",
        "  ax[1].legend()\n",
        "  plt.show()"
      ],
      "metadata": {
        "id": "g-JQPAe_UR20",
        "outputId": "641090ec-6481-43bd-9c1f-e0662118bbe2",
        "colab": {
          "base_uri": "https://localhost:8080/"
        }
      },
      "execution_count": 14,
      "outputs": [
        {
          "name": "stdout",
          "output_type": "stream",
          "text": [
            "Digite el valor de la resistencia en ohmios: 1000\n"
          ]
        }
      ]
    },
    {
      "cell_type": "code",
      "source": [
        "#Carga RC en serie\n",
        "\n",
        "import numpy as np\n",
        "import matplotlib.pyplot as plt\n",
        "\n",
        "Vin = 120 #Voltaje de entrada del circuito\n",
        "Rt = 5 #Relación de transformación 5:1\n",
        "R = float(input(\"Digite el valor de la resistencia en ohmios: \")) #Resistencia de la carga\n",
        "C = float(input(\"Digite el valor de la capacitancia en faradios: \")) #Capacitancia de la carga\n",
        "F = float(input(\"Digite el valor de la frecuencia de señal de entrada: \"))\n",
        "\n",
        "def calcular_THD_FPrc(Vin,Rt,R,C,F):\n",
        "  Iin = float(Vin / R) #Corriente de entrada del circuito\n",
        "  Irms = float(Iin / Rt) #Valor RMS de la corriente del circuito\n",
        "  Vrms = float(Vin / Rt) #Valor RMS del voltaje del circuito\n",
        "  VPreal = float((Vrms * np.sqrt(2)) - 1.4) #Voltaje pico real, se le resta 1.4 por la caída de tensión de los 2 diodos en serie\n",
        "  Vcd = float((2 * VPreal) / np.pi) #Voltaje de salida en cd\n",
        "  Icd = float(Vcd / R) #Intensidad de salida en cd\n",
        "\n",
        "  Z = float(np.sqrt(R**2 + (1 / (2 * np.pi * F * C))**2))\n",
        "  Pin = float(Vrms * Irms) #Calcula la potencia de entrada\n",
        "  Pout = float(Vcd * Icd) #Calcula la potencia de salida\n",
        "  Efc = float(Pout / Pin) #Calcula la eficiencia\n",
        "  THD = float(np.sqrt((Pin - Pout) / Pin)) #Calcula el THD\n",
        "  FP = float(Efc / np.sqrt(1 - THD**2)) #Calcula la distorsión del factor de potencia\n",
        "\n",
        "  Phi = float(np.arctan(1 / (2 * np.pi * F * R * C))) #Calcula el ángulo de fase entre la tensión y la corriente\n",
        "  Q = float(Vrms * Irms * np.sin(Phi)) #Calcula la potencia reactiva\n",
        "  S = float(np.sqrt(Pin**2 + Q**2)) #Calcula la potencia aparente\n",
        "  FPrc = float(Pin / S) #Calcula el factor de potencia\n",
        "  return THD, FPrc\n",
        "def graficar_THD_FP(THD, FPrc)\n",
        "  fig, ax = plt.subplots(1, 2, figsize=(12, 6))\n",
        "  ax[0].plot(THD, label='THD')\n",
        "  ax[0].set_xlabel('Frecuencia (Hz)')\n",
        "  ax[0].set_ylabel('THD (%)')\n",
        "  ax[0].set_title('THD vs Frecuencia')\n",
        "  ax[0].legend()\n",
        "  ax[1].plot(FPrc, label='Factor de Potencia')\n",
        "  ax[1].set_xlabel('Frecuencia (Hz)')\n",
        "  ax[1].set_ylabel('Factor de Potencia')\n",
        "  ax[1].set_title('Factor de Potencia vs Frecuencia')\n",
        "  ax[1].legend()\n",
        "  plt.show()\n",
        "\n",
        "F = np.linspace(40, 60, 100)\n",
        "thd = np.zeros_like(F)\n",
        "fprc = np.zeros_like(F)\n",
        "for i, freq in enumerate(F):\n",
        "  thd[i], fprc[i] = (Vrms, Irms, Vcd, Icd, R, C, freq)"
      ],
      "metadata": {
        "id": "8jgZ9MsUgThu",
        "outputId": "b48302e7-bb34-4184-a355-1c46afa5da92",
        "colab": {
          "base_uri": "https://localhost:8080/",
          "height": 562
        }
      },
      "execution_count": 12,
      "outputs": [
        {
          "name": "stdout",
          "output_type": "stream",
          "text": [
            "Digite el valor de la resistencia en ohmios: 1000\n",
            "Digite el valor de la capacitancia en faradios: 10e-6\n"
          ]
        },
        {
          "output_type": "display_data",
          "data": {
            "text/plain": [
              "<Figure size 1200x600 with 2 Axes>"
            ],
            "image/png": "[encoded data removed]"
          },
          "metadata": {}
        },
        {
          "output_type": "error",
          "ename": "ValueError",
          "evalue": "too many values to unpack (expected 2)",
          "traceback": [
            "\u001b[0;31m---------------------------------------------------------------------------\u001b[0m",
            "\u001b[0;31mValueError\u001b[0m                                Traceback (most recent call last)",
            "\u001b[0;32m<ipython-input-12-b68234030126>\u001b[0m in \u001b[0;36m<cell line: 46>\u001b[0;34m()\u001b[0m\n\u001b[1;32m     45\u001b[0m \u001b[0mfprc\u001b[0m \u001b[0;34m=\u001b[0m \u001b[0mnp\u001b[0m\u001b[0;34m.\u001b[0m\u001b[0mzeros_like\u001b[0m\u001b[0;34m(\u001b[0m\u001b[0mF\u001b[0m\u001b[0;34m)\u001b[0m\u001b[0;34m\u001b[0m\u001b[0;34m\u001b[0m\u001b[0m\n\u001b[1;32m     46\u001b[0m \u001b[0;32mfor\u001b[0m \u001b[0mi\u001b[0m\u001b[0;34m,\u001b[0m \u001b[0mfreq\u001b[0m \u001b[0;32min\u001b[0m \u001b[0menumerate\u001b[0m\u001b[0;34m(\u001b[0m\u001b[0mF\u001b[0m\u001b[0;34m)\u001b[0m\u001b[0;34m:\u001b[0m\u001b[0;34m\u001b[0m\u001b[0;34m\u001b[0m\u001b[0m\n\u001b[0;32m---> 47\u001b[0;31m   \u001b[0mthd\u001b[0m\u001b[0;34m[\u001b[0m\u001b[0mi\u001b[0m\u001b[0;34m]\u001b[0m\u001b[0;34m,\u001b[0m \u001b[0mfprc\u001b[0m\u001b[0;34m[\u001b[0m\u001b[0mi\u001b[0m\u001b[0;34m]\u001b[0m \u001b[0;34m=\u001b[0m \u001b[0;34m(\u001b[0m\u001b[0mVrms\u001b[0m\u001b[0;34m,\u001b[0m \u001b[0mIrms\u001b[0m\u001b[0;34m,\u001b[0m \u001b[0mVcd\u001b[0m\u001b[0;34m,\u001b[0m \u001b[0mIcd\u001b[0m\u001b[0;34m,\u001b[0m \u001b[0mR\u001b[0m\u001b[0;34m,\u001b[0m \u001b[0mC\u001b[0m\u001b[0;34m,\u001b[0m \u001b[0mfreq\u001b[0m\u001b[0;34m)\u001b[0m\u001b[0;34m\u001b[0m\u001b[0;34m\u001b[0m\u001b[0m\n\u001b[0m",
            "\u001b[0;31mValueError\u001b[0m: too many values to unpack (expected 2)"
          ]
        }
      ]
    },
    {
      "cell_type": "code",
      "source": [
        "#Carga netamente resisitiva\n",
        "\n",
        "import numpy as np\n",
        "import matplotlib.pyplot as plt\n",
        "\n",
        "Vin = 120 #Voltaje de entrada del circuito\n",
        "Rt = 5 #Relación de transformación 5:1\n",
        "R = float(input(\"Digite el valor de la resistencia en ohmios: \")) #Resistencia de la carga\n",
        "def calcular_THD_FPrc(Vin,Rt,R):\n",
        "  Iin = float(Vin / R) #Corriente de entrada del circuito\n",
        "  Irms = float(Iin / Rt) #Valor RMS de la corriente del circuito\n",
        "  Vrms = float(Vin / Rt) #Valor RMS del voltaje del circuito\n",
        "  VPreal = float((Vrms * np.sqrt(2)) - 1.4) #Voltaje pico real, se le resta 1.4 por la caída de tensión de los 2 diodos en serie\n",
        "  Vcd = float((2 * VPreal) / np.pi) #Voltaje de salida en cd\n",
        "  Icd = float(Vcd / R) #Intensidad de salida en cd\n",
        "\n",
        "  Pin = float(Vrms * Irms) #Calcula la potencia de entrada\n",
        "  Pout = float(Vcd * Icd) #Calcula la potencia de salida\n",
        "  Efc = float(Pout / Pin) #Calcula la eficiencia\n",
        "  THD = float(np.sqrt((Pin - Pout) / Pin)) #Calcula el THD\n",
        "  FP = float(Efc / np.sqrt(1 - THD**2)) #Calcula la distorsión del factor de potencia\n",
        "  return THD, FP\n",
        "\n",
        "def graficar_THD_FP(THD, FP):\n",
        "  fig, ax = plt.subplots(1, 2, figsize=(12, 6))\n",
        "  ax[0].plot(THD, label='THD')\n",
        "  ax[0].set_xlabel('Frecuencia (Hz)')\n",
        "  ax[0].set_ylabel('THD (%)')\n",
        "  ax[0].set_title('THD vs Frecuencia')\n",
        "  ax[0].legend()\n",
        "  ax[1].plot(FP, label='Factor de Potencia')\n",
        "  ax[1].set_xlabel('Frecuencia (Hz)')\n",
        "  ax[1].set_ylabel('Factor de Potencia')\n",
        "  ax[1].set_title('Factor de Potencia vs Frecuencia')\n",
        "  ax[1].legend()\n",
        "  plt.show()"
      ],
      "metadata": {
        "id": "hG--S4BUto0D"
      },
      "execution_count": null,
      "outputs": []
    }
  ]
}