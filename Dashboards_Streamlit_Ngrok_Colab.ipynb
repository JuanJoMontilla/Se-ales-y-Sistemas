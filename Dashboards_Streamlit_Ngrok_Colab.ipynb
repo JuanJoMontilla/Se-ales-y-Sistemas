{
  "nbformat": 4,
  "nbformat_minor": 0,
  "metadata": {
    "colab": {
      "provenance": [],
      "include_colab_link": true
    },
    "kernelspec": {
      "name": "python3",
      "display_name": "Python 3"
    },
    "language_info": {
      "name": "python"
    }
  },
  "cells": [
    {
      "cell_type": "markdown",
      "metadata": {
        "id": "view-in-github",
        "colab_type": "text"
      },
      "source": [
        "<a href=\"https://colab.research.google.com/github/JuanJoMontilla/Senales-y-Sistemas/blob/main/Dashboards_Streamlit_Ngrok_Colab.ipynb\" target=\"_parent\"><img src=\"https://colab.research.google.com/assets/colab-badge.svg\" alt=\"Open In Colab\"/></a>"
      ]
    },
    {
      "cell_type": "markdown",
      "source": [
        "# Guía Streamlit en Colab y Ngrok - Dashboards\n",
        "\n",
        "Elaborado por: Juan David Muñoz Buritica jmunozbu@unal.edu.co (Monitoria SyS 2024-1)\n",
        "Revisado: Andrés Marino Álvarez Meza amalvarezme@unal.edu.co\n",
        "\n",
        "- [Streamlit](https://streamlit.io/) es una librería destinada a crear y compartir aplicaciones o dashboards.\n",
        "- Su objetivo es ser una herramienta fácil de usar que permita ejecutar scripts directamente y desplegarlos en un aplicativo web.\n",
        "- Sin embargo, antes de ver su funcionamiento, debemos tener en cuenta que, si bien Streamlit permite correr el aplicativo, debemos alojarlo y \"hacerlo visible\" a la red.\n",
        "- Existen diferentes métodos que cumplen dicho objetivo, también dependiendo del nivel de madurez que se requiera, bien sea simplemente testeo o producción. - Una alternativa eficaz, rápida y que puede ser fácilmente escalable es [Ngrok](https://ngrok.com/)."
      ],
      "metadata": {
        "id": "mBRoMU1ZSVbC"
      }
    },
    {
      "cell_type": "markdown",
      "source": [
        "- Ngrok es un servicio y aplicativo globalmente distribuido que asegura, acelera y protege las aplicaciones y servicios de red.\n",
        "- En este caso, nos servirá para crear el tunel http que nos deje visualizar el dashboard corriendo con Streamlit desde el entorno del cuadernillo o script de Python.\n",
        "- El servicio gratuito de Ngrok, tras crear la cuenta tiene la posibilidad de mantener un agente activo simultáneo, cuya configuración está dada por el token de autenticación único por usuario y túnel.\n",
        "\n",
        "**Nota: Cree una cuenta en Ngrok https://ngrok.com/ con su correo UNAL y guarde el token personal asignado**"
      ],
      "metadata": {
        "id": "2y5u0IEjUUlK"
      }
    },
    {
      "cell_type": "markdown",
      "source": [
        "# Ejemplo Dashboard con Streamlit y Ngrok\n",
        "\n",
        "- Manipulación de audios desde Youtube"
      ],
      "metadata": {
        "id": "Is7CnMUjPkEa"
      }
    },
    {
      "cell_type": "code",
      "execution_count": 1,
      "metadata": {
        "id": "AS_pGOHuRBOe",
        "colab": {
          "base_uri": "https://localhost:8080/"
        },
        "outputId": "266c542b-ca7e-4f7c-ad8e-40b13b69dfb3"
      },
      "outputs": [
        {
          "output_type": "stream",
          "name": "stdout",
          "text": [
            "\u001b[2K   \u001b[90m━━━━━━━━━━━━━━━━━━━━━━━━━━━━━━━━━━━━━━━━\u001b[0m \u001b[32m8.7/8.7 MB\u001b[0m \u001b[31m25.5 MB/s\u001b[0m eta \u001b[36m0:00:00\u001b[0m\n",
            "\u001b[2K   \u001b[90m━━━━━━━━━━━━━━━━━━━━━━━━━━━━━━━━━━━━━━━━\u001b[0m \u001b[32m207.3/207.3 kB\u001b[0m \u001b[31m4.8 MB/s\u001b[0m eta \u001b[36m0:00:00\u001b[0m\n",
            "\u001b[2K   \u001b[90m━━━━━━━━━━━━━━━━━━━━━━━━━━━━━━━━━━━━━━━━\u001b[0m \u001b[32m6.9/6.9 MB\u001b[0m \u001b[31m35.3 MB/s\u001b[0m eta \u001b[36m0:00:00\u001b[0m\n",
            "\u001b[2K   \u001b[90m━━━━━━━━━━━━━━━━━━━━━━━━━━━━━━━━━━━━━━━━\u001b[0m \u001b[32m82.9/82.9 kB\u001b[0m \u001b[31m3.7 MB/s\u001b[0m eta \u001b[36m0:00:00\u001b[0m\n",
            "\u001b[2K   \u001b[90m━━━━━━━━━━━━━━━━━━━━━━━━━━━━━━━━━━━━━━━━\u001b[0m \u001b[32m62.7/62.7 kB\u001b[0m \u001b[31m2.2 MB/s\u001b[0m eta \u001b[36m0:00:00\u001b[0m\n",
            "\u001b[?25hCollecting pyngrok\n",
            "  Downloading pyngrok-7.2.0-py3-none-any.whl.metadata (7.4 kB)\n",
            "Requirement already satisfied: PyYAML>=5.1 in /usr/local/lib/python3.10/dist-packages (from pyngrok) (6.0.2)\n",
            "Downloading pyngrok-7.2.0-py3-none-any.whl (22 kB)\n",
            "Installing collected packages: pyngrok\n",
            "Successfully installed pyngrok-7.2.0\n"
          ]
        }
      ],
      "source": [
        "!pip install streamlit -q #instalación de librerías\n",
        "!pip install pyngrok"
      ]
    },
    {
      "cell_type": "code",
      "source": [
        "!python3 -m pip install --force-reinstall https://github.com/yt-dlp/yt-dlp/archive/master.tar.gz\n",
        "!pip install soundfile #librerias descarga Youtube y manejo de audios en python"
      ],
      "metadata": {
        "id": "ilQwRjcv9azp",
        "colab": {
          "base_uri": "https://localhost:8080/"
        },
        "outputId": "e97723bd-4ae0-48ef-a96b-5952713b27d2"
      },
      "execution_count": 2,
      "outputs": [
        {
          "output_type": "stream",
          "name": "stdout",
          "text": [
            "Collecting https://github.com/yt-dlp/yt-dlp/archive/master.tar.gz\n",
            "  Downloading https://github.com/yt-dlp/yt-dlp/archive/master.tar.gz (2.7 MB)\n",
            "\u001b[2K     \u001b[90m━━━━━━━━━━━━━━━━━━━━━━━━━━━━━━━━━━━━━━━━\u001b[0m \u001b[32m2.7/2.7 MB\u001b[0m \u001b[31m14.8 MB/s\u001b[0m eta \u001b[36m0:00:00\u001b[0m\n",
            "\u001b[?25h  Installing build dependencies ... \u001b[?25l\u001b[?25hdone\n",
            "  Getting requirements to build wheel ... \u001b[?25l\u001b[?25hdone\n",
            "  Preparing metadata (pyproject.toml) ... \u001b[?25l\u001b[?25hdone\n",
            "Collecting brotli (from yt-dlp==2024.8.6)\n",
            "  Downloading Brotli-1.1.0-cp310-cp310-manylinux_2_5_x86_64.manylinux1_x86_64.manylinux_2_12_x86_64.manylinux2010_x86_64.whl.metadata (5.5 kB)\n",
            "Collecting certifi (from yt-dlp==2024.8.6)\n",
            "  Using cached certifi-2024.7.4-py3-none-any.whl.metadata (2.2 kB)\n",
            "Collecting mutagen (from yt-dlp==2024.8.6)\n",
            "  Downloading mutagen-1.47.0-py3-none-any.whl.metadata (1.7 kB)\n",
            "Collecting pycryptodomex (from yt-dlp==2024.8.6)\n",
            "  Downloading pycryptodomex-3.20.0-cp35-abi3-manylinux_2_17_x86_64.manylinux2014_x86_64.whl.metadata (3.4 kB)\n",
            "Collecting requests<3,>=2.32.2 (from yt-dlp==2024.8.6)\n",
            "  Using cached requests-2.32.3-py3-none-any.whl.metadata (4.6 kB)\n",
            "Collecting urllib3<3,>=1.26.17 (from yt-dlp==2024.8.6)\n",
            "  Downloading urllib3-2.2.2-py3-none-any.whl.metadata (6.4 kB)\n",
            "Collecting websockets>=13.0 (from yt-dlp==2024.8.6)\n",
            "  Downloading websockets-13.0.1-cp310-cp310-manylinux_2_5_x86_64.manylinux1_x86_64.manylinux_2_17_x86_64.manylinux2014_x86_64.whl.metadata (6.7 kB)\n",
            "Collecting charset-normalizer<4,>=2 (from requests<3,>=2.32.2->yt-dlp==2024.8.6)\n",
            "  Using cached charset_normalizer-3.3.2-cp310-cp310-manylinux_2_17_x86_64.manylinux2014_x86_64.whl.metadata (33 kB)\n",
            "Collecting idna<4,>=2.5 (from requests<3,>=2.32.2->yt-dlp==2024.8.6)\n",
            "  Using cached idna-3.8-py3-none-any.whl.metadata (9.9 kB)\n",
            "Using cached requests-2.32.3-py3-none-any.whl (64 kB)\n",
            "Using cached certifi-2024.7.4-py3-none-any.whl (162 kB)\n",
            "Downloading urllib3-2.2.2-py3-none-any.whl (121 kB)\n",
            "\u001b[2K   \u001b[90m━━━━━━━━━━━━━━━━━━━━━━━━━━━━━━━━━━━━━━━━\u001b[0m \u001b[32m121.4/121.4 kB\u001b[0m \u001b[31m3.0 MB/s\u001b[0m eta \u001b[36m0:00:00\u001b[0m\n",
            "\u001b[?25hDownloading websockets-13.0.1-cp310-cp310-manylinux_2_5_x86_64.manylinux1_x86_64.manylinux_2_17_x86_64.manylinux2014_x86_64.whl (157 kB)\n",
            "\u001b[2K   \u001b[90m━━━━━━━━━━━━━━━━━━━━━━━━━━━━━━━━━━━━━━━━\u001b[0m \u001b[32m157.3/157.3 kB\u001b[0m \u001b[31m7.7 MB/s\u001b[0m eta \u001b[36m0:00:00\u001b[0m\n",
            "\u001b[?25hDownloading Brotli-1.1.0-cp310-cp310-manylinux_2_5_x86_64.manylinux1_x86_64.manylinux_2_12_x86_64.manylinux2010_x86_64.whl (3.0 MB)\n",
            "\u001b[2K   \u001b[90m━━━━━━━━━━━━━━━━━━━━━━━━━━━━━━━━━━━━━━━━\u001b[0m \u001b[32m3.0/3.0 MB\u001b[0m \u001b[31m41.5 MB/s\u001b[0m eta \u001b[36m0:00:00\u001b[0m\n",
            "\u001b[?25hDownloading mutagen-1.47.0-py3-none-any.whl (194 kB)\n",
            "\u001b[2K   \u001b[90m━━━━━━━━━━━━━━━━━━━━━━━━━━━━━━━━━━━━━━━━\u001b[0m \u001b[32m194.4/194.4 kB\u001b[0m \u001b[31m12.1 MB/s\u001b[0m eta \u001b[36m0:00:00\u001b[0m\n",
            "\u001b[?25hDownloading pycryptodomex-3.20.0-cp35-abi3-manylinux_2_17_x86_64.manylinux2014_x86_64.whl (2.1 MB)\n",
            "\u001b[2K   \u001b[90m━━━━━━━━━━━━━━━━━━━━━━━━━━━━━━━━━━━━━━━━\u001b[0m \u001b[32m2.1/2.1 MB\u001b[0m \u001b[31m47.5 MB/s\u001b[0m eta \u001b[36m0:00:00\u001b[0m\n",
            "\u001b[?25hUsing cached charset_normalizer-3.3.2-cp310-cp310-manylinux_2_17_x86_64.manylinux2014_x86_64.whl (142 kB)\n",
            "Using cached idna-3.8-py3-none-any.whl (66 kB)\n",
            "Building wheels for collected packages: yt-dlp\n",
            "  Building wheel for yt-dlp (pyproject.toml) ... \u001b[?25l\u001b[?25hdone\n",
            "  Created wheel for yt-dlp: filename=yt_dlp-2024.8.6-py3-none-any.whl size=2880788 sha256=c2937f6a766690350f3185403fe4325fa6ce0b529ca4b930bd838c8c302c44ea\n",
            "  Stored in directory: /tmp/pip-ephem-wheel-cache-rgo1nxzz/wheels/4c/91/d1/c5369304e2f7afb660bb6eee093af5a7d3c0ea05a3c1e8c797\n",
            "Successfully built yt-dlp\n",
            "Installing collected packages: brotli, websockets, urllib3, pycryptodomex, mutagen, idna, charset-normalizer, certifi, requests, yt-dlp\n",
            "  Attempting uninstall: urllib3\n",
            "    Found existing installation: urllib3 2.0.7\n",
            "    Uninstalling urllib3-2.0.7:\n",
            "      Successfully uninstalled urllib3-2.0.7\n",
            "  Attempting uninstall: idna\n",
            "    Found existing installation: idna 3.8\n",
            "    Uninstalling idna-3.8:\n",
            "      Successfully uninstalled idna-3.8\n",
            "  Attempting uninstall: charset-normalizer\n",
            "    Found existing installation: charset-normalizer 3.3.2\n",
            "    Uninstalling charset-normalizer-3.3.2:\n",
            "      Successfully uninstalled charset-normalizer-3.3.2\n",
            "  Attempting uninstall: certifi\n",
            "    Found existing installation: certifi 2024.7.4\n",
            "    Uninstalling certifi-2024.7.4:\n",
            "      Successfully uninstalled certifi-2024.7.4\n",
            "  Attempting uninstall: requests\n",
            "    Found existing installation: requests 2.32.3\n",
            "    Uninstalling requests-2.32.3:\n",
            "      Successfully uninstalled requests-2.32.3\n",
            "Successfully installed brotli-1.1.0 certifi-2024.7.4 charset-normalizer-3.3.2 idna-3.8 mutagen-1.47.0 pycryptodomex-3.20.0 requests-2.32.3 urllib3-2.2.2 websockets-13.0.1 yt-dlp-2024.8.6\n",
            "Requirement already satisfied: soundfile in /usr/local/lib/python3.10/dist-packages (0.12.1)\n",
            "Requirement already satisfied: cffi>=1.0 in /usr/local/lib/python3.10/dist-packages (from soundfile) (1.17.0)\n",
            "Requirement already satisfied: pycparser in /usr/local/lib/python3.10/dist-packages (from cffi>=1.0->soundfile) (2.22)\n"
          ]
        }
      ]
    },
    {
      "cell_type": "markdown",
      "source": [
        "La estructura básica para correr un programa o script en streamlit es la siguiente."
      ],
      "metadata": {
        "id": "dq3Ao2CO3x8w"
      }
    },
    {
      "cell_type": "code",
      "source": [
        "\"\"\"\n",
        "%%writefile app.py\n",
        "import streamlit as st\n",
        "\n",
        "st.write('# Hello World ')\n",
        "st.write('## Run Streamlit on Colab with `pyngrok` ')\n",
        "\"\"\""
      ],
      "metadata": {
        "colab": {
          "base_uri": "https://localhost:8080/",
          "height": 36
        },
        "id": "2TEZ67hwhKG2",
        "outputId": "b8c41b91-525b-4557-f764-4da9d06b9989"
      },
      "execution_count": 3,
      "outputs": [
        {
          "output_type": "execute_result",
          "data": {
            "text/plain": [
              "\"\\n%%writefile app.py\\nimport streamlit as st\\n\\nst.write('# Hello World ')\\nst.write('## Run Streamlit on Colab with `pyngrok` ')\\n\""
            ],
            "application/vnd.google.colaboratory.intrinsic+json": {
              "type": "string"
            }
          },
          "metadata": {},
          "execution_count": 3
        }
      ]
    },
    {
      "cell_type": "markdown",
      "source": [
        "- A continuación se muestra una app básica con algunas de las funcionalidades básicas para visualizar en dashboard.\n",
        "\n",
        "- Debemos crear un archivo .py con los códigos del dashboard para su posterior visualización en Ngrok."
      ],
      "metadata": {
        "id": "IOaX3yd226rg"
      }
    },
    {
      "cell_type": "code",
      "source": [
        "%%writefile detector.py\n",
        "\n",
        "import streamlit as st\n",
        "import pandas as pd\n",
        "import numpy as np\n",
        "import os\n",
        "import subprocess\n",
        "import soundfile as sf\n",
        "import matplotlib.pyplot as plt\n",
        "from sklearn.preprocessing import MinMaxScaler\n",
        "from sklearn.manifold import TSNE\n",
        "from pyngrok import ngrok\n",
        "import yt_dlp as youtube_dl\n",
        "import joblib\n",
        "\n",
        "\n",
        "#widgets y funcionalidades de streamlit\n",
        "st.title(\"YouTube Audio Analysis and Classification\")\n",
        "uploaded_file = st.file_uploader(\"Upload your Excel file\", type=[\"xlsx\"])\n",
        "\n",
        "if uploaded_file:\n",
        "    df = pd.read_excel(uploaded_file)\n",
        "    st.write(\"Uploaded data:\", df)\n",
        "\n",
        "custom_url = st.text_input(\"Enter a new YouTube URL to process:\", \"\")\n",
        "\n",
        "song_duration = st.slider('Playtime for the song')\n",
        "\n",
        "add_selectbox = st.sidebar.selectbox(\n",
        "    'How many 5s pieces would you like to process?',\n",
        "    ('1', '2', '3')\n",
        ")"
      ],
      "metadata": {
        "colab": {
          "base_uri": "https://localhost:8080/"
        },
        "id": "KxXGfU4z21Yt",
        "outputId": "cb322858-6882-4090-8fd2-a90c53518564"
      },
      "execution_count": 20,
      "outputs": [
        {
          "output_type": "stream",
          "name": "stdout",
          "text": [
            "Overwriting detector.py\n"
          ]
        }
      ]
    },
    {
      "cell_type": "markdown",
      "source": [
        "Como al momento de correr el script con Streamlit se requiere del archivo .py donde se encuentre el código, utilizamos %%writefile para crearlo. Posteriormente hacemos toda la configuración de Ngrok con el token y demás datos de protocolo."
      ],
      "metadata": {
        "id": "Wmhs3tByoErw"
      }
    },
    {
      "cell_type": "code",
      "source": [
        "token = '2lLFMBWiinIoZUi3bX7RF26eFeD_5KBTy8DqrMYoE2mf5Sqnc' #colocar aquí su token personal después de crear su cuenta con correo UNAL en Ngrok"
      ],
      "metadata": {
        "id": "BFoInA_Fo7ut"
      },
      "execution_count": 21,
      "outputs": []
    },
    {
      "cell_type": "code",
      "source": [
        "from pyngrok import ngrok\n",
        "\n",
        "# Set authentication token (unique per user)\n",
        "ngrok.set_auth_token(token)\n",
        "\n",
        "# Start Streamlit server on a specific port\n",
        "!nohup streamlit run detector.py --server.port 5011 &\n",
        "\n",
        "# Start ngrok tunnel to expose the Streamlit server\n",
        "ngrok_tunnel = ngrok.connect(addr='5011', proto='http', bind_tls=True)\n",
        "\n",
        "# Print the URL of the ngrok tunnel\n",
        "print(' * Tunnel URL:', ngrok_tunnel.public_url)"
      ],
      "metadata": {
        "colab": {
          "base_uri": "https://localhost:8080/"
        },
        "id": "Owu5b-ENhQuZ",
        "outputId": "999d52fb-8017-4f54-85f7-8c7c33592f16"
      },
      "execution_count": 22,
      "outputs": [
        {
          "output_type": "stream",
          "name": "stdout",
          "text": [
            "nohup: appending output to 'nohup.out'\n",
            " * Tunnel URL: https://91c7-34-139-18-25.ngrok-free.app\n"
          ]
        }
      ]
    },
    {
      "cell_type": "code",
      "source": [
        "#exit(\"Stopping the execution\")"
      ],
      "metadata": {
        "id": "dWfjbJx96kP0"
      },
      "execution_count": 24,
      "outputs": []
    },
    {
      "cell_type": "markdown",
      "source": [
        "## Cómo usar Streamlit?\n",
        "\n"
      ],
      "metadata": {
        "id": "jfZLTaYmpTiM"
      }
    },
    {
      "cell_type": "markdown",
      "source": [
        "- Tan pronto como se ejecuta el script, un servidor local de Streamlit se inicia con el cuadernillo.\n",
        "- La aplicación es como un lienzo, donde se pueden dibujar gráficos, texto, widgets, tablas, etc.\n",
        "- Streamlit dispone de distintos métodos o funciones que permiten hacerlo, como por ejemplo, st.text() que escribe texto sin formato en la aplicación, y st.line_chart() que dibuja un gráfico de líneas."
      ],
      "metadata": {
        "id": "nQC2dlJYpZWy"
      }
    },
    {
      "cell_type": "markdown",
      "source": [
        "La arquitectura de Streamlit permite escribir aplicaciones de la misma manera en que se escriben scripts en Python. Para esto, las aplicaciones de Streamlit tienen un flujo de datos único: cada vez que algo debe actualizarse en la pantalla, Streamlit vuelve a ejecutar todo el script de Python de principio a fin.\n",
        "\n",
        "Esto puede ocurrir en dos situaciones:\n",
        "\n",
        "- Cuando se modifica el código fuente de la aplicación.\n",
        "\n",
        "- Cuando un usuario interactúa con los widgets en la aplicación. Por ejemplo, al arrastrar un deslizador, ingresar texto en un cuadro de entrada o hacer clic en un botón.\n",
        "\n",
        "Veamos cómo funcionan algunas de estas opciones, tomando como base algunas funcionalidades del programa [youtube_detector](https://github.com/amalvarezme/SenalesSistemas/blob/master/3_SerieyTransformadaFourier/youtube_detector.ipynb)."
      ],
      "metadata": {
        "id": "_iB8IXOzsuBI"
      }
    },
    {
      "cell_type": "code",
      "source": [
        "import streamlit as st\n",
        "import pandas as pd\n",
        "import numpy as np\n",
        "import os\n",
        "import subprocess\n",
        "import soundfile as sf\n",
        "import matplotlib.pyplot as plt\n",
        "from sklearn.preprocessing import MinMaxScaler\n",
        "from sklearn.manifold import TSNE\n",
        "from pyngrok import ngrok\n",
        "import yt_dlp as youtube_dl\n",
        "import joblib"
      ],
      "metadata": {
        "id": "QCz26bdrt3YQ"
      },
      "execution_count": 25,
      "outputs": []
    },
    {
      "cell_type": "markdown",
      "source": [
        "Ponemos un título a la aplicación y página."
      ],
      "metadata": {
        "id": "3rzTj3x-ukkq"
      }
    },
    {
      "cell_type": "code",
      "source": [
        "st.title(\"YouTube Audio Analysis and Classification\")"
      ],
      "metadata": {
        "id": "vEaip43VuYQo",
        "colab": {
          "base_uri": "https://localhost:8080/"
        },
        "outputId": "ee55457a-a8fe-463b-c025-452586d10788"
      },
      "execution_count": 9,
      "outputs": [
        {
          "output_type": "stream",
          "name": "stderr",
          "text": [
            "2024-08-29 21:25:45.816 WARNING streamlit.runtime.scriptrunner_utils.script_run_context: Thread 'MainThread': missing ScriptRunContext! This warning can be ignored when running in bare mode.\n",
            "2024-08-29 21:25:46.524 \n",
            "  \u001b[33m\u001b[1mWarning:\u001b[0m to view this Streamlit app on a browser, run it with the following\n",
            "  command:\n",
            "\n",
            "    streamlit run /usr/local/lib/python3.10/dist-packages/colab_kernel_launcher.py [ARGUMENTS]\n",
            "2024-08-29 21:25:46.536 Thread 'MainThread': missing ScriptRunContext! This warning can be ignored when running in bare mode.\n"
          ]
        },
        {
          "output_type": "execute_result",
          "data": {
            "text/plain": [
              "DeltaGenerator()"
            ]
          },
          "metadata": {},
          "execution_count": 9
        }
      ]
    },
    {
      "cell_type": "markdown",
      "source": [
        "Podemos dejar la opción para que el usuario suba un archivo, en este caso con el formato específico .xlsx"
      ],
      "metadata": {
        "id": "eHK1hpx4uwFG"
      }
    },
    {
      "cell_type": "code",
      "source": [
        "uploaded_file = st.file_uploader(\"Upload your Excel file\", type=[\"xlsx\"])"
      ],
      "metadata": {
        "id": "2cbSzlm6uu40",
        "outputId": "194cc456-3e38-46a4-ecaf-e39c6549d40b",
        "colab": {
          "base_uri": "https://localhost:8080/"
        }
      },
      "execution_count": 10,
      "outputs": [
        {
          "output_type": "stream",
          "name": "stderr",
          "text": [
            "2024-08-29 21:25:46.590 Thread 'MainThread': missing ScriptRunContext! This warning can be ignored when running in bare mode.\n",
            "2024-08-29 21:25:46.595 Thread 'MainThread': missing ScriptRunContext! This warning can be ignored when running in bare mode.\n",
            "2024-08-29 21:25:46.602 Thread 'MainThread': missing ScriptRunContext! This warning can be ignored when running in bare mode.\n",
            "2024-08-29 21:25:46.612 Thread 'MainThread': missing ScriptRunContext! This warning can be ignored when running in bare mode.\n"
          ]
        }
      ]
    },
    {
      "cell_type": "markdown",
      "source": [
        "Damos un mensaje de confirmación del archivo subido, y lo leemos con pandas."
      ],
      "metadata": {
        "id": "SZbIJN6pwtc4"
      }
    },
    {
      "cell_type": "code",
      "source": [
        "if uploaded_file:\n",
        "    df = pd.read_excel(uploaded_file)\n",
        "    st.write(\"Uploaded data:\", df)"
      ],
      "metadata": {
        "id": "A4_NrK-awys4"
      },
      "execution_count": 11,
      "outputs": []
    },
    {
      "cell_type": "markdown",
      "source": [
        "Para el momento en el que queramos identificar una canción, podemos poner la opción de que el usuario introduza el link de esa canción."
      ],
      "metadata": {
        "id": "yxH7VTb8xMb0"
      }
    },
    {
      "cell_type": "code",
      "source": [
        "custom_url = st.text_input(\"Enter a new YouTube URL to process:\", \"\")"
      ],
      "metadata": {
        "id": "WwqAWmrtxXCm",
        "colab": {
          "base_uri": "https://localhost:8080/"
        },
        "outputId": "b0de6a91-717e-4be1-a1e1-c1a622c0eded"
      },
      "execution_count": 12,
      "outputs": [
        {
          "output_type": "stream",
          "name": "stderr",
          "text": [
            "2024-08-29 21:25:46.669 Thread 'MainThread': missing ScriptRunContext! This warning can be ignored when running in bare mode.\n",
            "2024-08-29 21:25:46.671 Thread 'MainThread': missing ScriptRunContext! This warning can be ignored when running in bare mode.\n",
            "2024-08-29 21:25:46.672 Thread 'MainThread': missing ScriptRunContext! This warning can be ignored when running in bare mode.\n",
            "2024-08-29 21:25:46.674 Session state does not function when running a script without `streamlit run`\n",
            "2024-08-29 21:25:46.675 Thread 'MainThread': missing ScriptRunContext! This warning can be ignored when running in bare mode.\n",
            "2024-08-29 21:25:46.677 Thread 'MainThread': missing ScriptRunContext! This warning can be ignored when running in bare mode.\n"
          ]
        }
      ]
    },
    {
      "cell_type": "markdown",
      "source": [
        "### Procesamiento de Datos\n",
        "- Ahora, una vez que se han introducido los datos, ocurre algo particular. La lista de canciones del archivo de excel van a utilizarse para entrenar un modelo sencillo que permita posteriormente hacer la clasificación.\n",
        "- Existe una opción que nos permite guardar en caché elementos o partes (funciones) del script, que solo correrán una vez y no volverán a hacerlo a menos de que sea completamente necesario (han cambiado las condiciones o argumentos de la función)."
      ],
      "metadata": {
        "id": "hYcGd5UtyDvo"
      }
    },
    {
      "cell_type": "markdown",
      "source": [
        "Para evitar cálculos redundantes, Streamlit proporciona decoradores de caché como @st.cache_data y @st.cache_resource. Estos decoradores almacenan los resultados de cálculos costosos, los cuales pueden reutilizarse en diferentes ejecuciones de la aplicación.\n",
        "\n",
        "- st.cache_data es la forma recomendada para almacenar en caché cálculos que devuelven datos o un objeto de datos serializable (por ejemplo, str, int, float, DataFrame, dict, list). Crea una nueva copia de los datos en cada llamada a la función, lo que lo hace seguro contra *mutaciones y condiciones de carrera*.\n",
        "\n",
        "- st.cache_resource es la forma recomendada para almacenar en caché recursos globales como modelos de aprendizaje automático o conexiones a bases de datos. Usa st.cache_resource cuando tu función devuelve objetos no serializables que no quieres cargar múltiples veces. Devuelve el objeto en caché en sí, el cual se comparte entre todas las ejecuciones y sesiones sin copia ni duplicación. Si mutas un objeto que está en caché utilizando st.cache_resource, esa mutación existirá en todas las ejecuciones y sesiones."
      ],
      "metadata": {
        "id": "mEvGkvayzlY9"
      }
    },
    {
      "cell_type": "markdown",
      "source": [
        "Al agregar cálculos de larga duración a una aplicación, se puede usar st.progress() para mostrar el estado en tiempo real."
      ],
      "metadata": {
        "id": "9EnHQOws51HE"
      }
    },
    {
      "cell_type": "code",
      "source": [
        "@st.cache_data\n",
        "def download_ytvid_as_mp3(video_url,name):\n",
        "    #video_url = input(\"enter url of youtube video:\")\n",
        "    video_info = youtube_dl.YoutubeDL().extract_info(url = video_url,download=False)\n",
        "    filename = f\"{name}.mp3\"\n",
        "    options={\n",
        "        'format':'bestaudio/best',\n",
        "        'keepvideo':False,\n",
        "        'outtmpl':filename,\n",
        "    }\n",
        "\n",
        "    with youtube_dl.YoutubeDL(options) as ydl:\n",
        "        ydl.download([video_info['webpage_url']])\n",
        "\n",
        "    print(\"Download complete... {}\".format(filename))\n",
        "\n",
        "@st.cache_resource\n",
        "def load_and_process_audio_files(path='results/'):\n",
        "    # Function to train the model from the Excel file\n",
        "    pass"
      ],
      "metadata": {
        "id": "tFSBKWao0sxx",
        "colab": {
          "base_uri": "https://localhost:8080/"
        },
        "outputId": "18f93a82-6cee-4933-e783-9060ed8d62f6"
      },
      "execution_count": 13,
      "outputs": [
        {
          "output_type": "stream",
          "name": "stderr",
          "text": [
            "2024-08-29 21:25:46.687 No runtime found, using MemoryCacheStorageManager\n"
          ]
        }
      ]
    },
    {
      "cell_type": "markdown",
      "source": [
        "También existen otros elementos algo más interactivos (widgets) para el usuario que pueden cumplir funciones importantes, como st.button(), st.slider() o st.selectbox(). Estos se tratan como si fueran simplemente variables."
      ],
      "metadata": {
        "id": "7KVeJHu51VjR"
      }
    },
    {
      "cell_type": "code",
      "source": [
        "def process_audio_from_link(df):\n",
        "  pass\n",
        "\n",
        "if st.button(\"Download and Process Audio\"):\n",
        "    path = process_audio_from_link(df)\n",
        "    x_t, label, name_c, fs = load_and_process_audio_files(path)"
      ],
      "metadata": {
        "id": "gCWNEJEG11z-",
        "outputId": "10a0d535-d9fd-445e-c7e6-7bd36e0b67a0",
        "colab": {
          "base_uri": "https://localhost:8080/"
        }
      },
      "execution_count": 14,
      "outputs": [
        {
          "output_type": "stream",
          "name": "stderr",
          "text": [
            "2024-08-29 21:25:46.700 Thread 'MainThread': missing ScriptRunContext! This warning can be ignored when running in bare mode.\n",
            "2024-08-29 21:25:46.702 Thread 'MainThread': missing ScriptRunContext! This warning can be ignored when running in bare mode.\n",
            "2024-08-29 21:25:46.704 Thread 'MainThread': missing ScriptRunContext! This warning can be ignored when running in bare mode.\n",
            "2024-08-29 21:25:46.705 Thread 'MainThread': missing ScriptRunContext! This warning can be ignored when running in bare mode.\n"
          ]
        }
      ]
    },
    {
      "cell_type": "code",
      "source": [
        "song_duration = st.slider('Playtime for the song')"
      ],
      "metadata": {
        "id": "uspdzDkO4SLV",
        "outputId": "519affdd-7eb7-4140-bcf2-a3c21272df8d",
        "colab": {
          "base_uri": "https://localhost:8080/"
        }
      },
      "execution_count": 15,
      "outputs": [
        {
          "output_type": "stream",
          "name": "stderr",
          "text": [
            "2024-08-29 21:25:46.712 Thread 'MainThread': missing ScriptRunContext! This warning can be ignored when running in bare mode.\n",
            "2024-08-29 21:25:46.714 Thread 'MainThread': missing ScriptRunContext! This warning can be ignored when running in bare mode.\n",
            "2024-08-29 21:25:46.715 Thread 'MainThread': missing ScriptRunContext! This warning can be ignored when running in bare mode.\n",
            "2024-08-29 21:25:46.717 Thread 'MainThread': missing ScriptRunContext! This warning can be ignored when running in bare mode.\n",
            "2024-08-29 21:25:46.719 Thread 'MainThread': missing ScriptRunContext! This warning can be ignored when running in bare mode.\n"
          ]
        }
      ]
    },
    {
      "cell_type": "markdown",
      "source": [
        "### Visualización de Datos\n",
        "Streamlit brinda cierta flexibilidad y opciones para visualizar datos, bien sea con funciones propias o su integración con pyplot."
      ],
      "metadata": {
        "id": "P-i3ORnP2IbX"
      }
    },
    {
      "cell_type": "code",
      "source": [
        "\"\"\"\n",
        "st.write(\"Time Domain Signals\")\n",
        "st.line_chart(x_t.mean(axis=-1)) # Gráfico en el tiempo\n",
        "\"\"\""
      ],
      "metadata": {
        "id": "3JKxeEhI2YHI",
        "colab": {
          "base_uri": "https://localhost:8080/",
          "height": 36
        },
        "outputId": "51010a83-3efa-4ada-e4bc-23646ce57be2"
      },
      "execution_count": 16,
      "outputs": [
        {
          "output_type": "execute_result",
          "data": {
            "text/plain": [
              "'\\nst.write(\"Time Domain Signals\")\\nst.line_chart(x_t.mean(axis=-1)) # Gráfico en el tiempo\\n'"
            ],
            "application/vnd.google.colaboratory.intrinsic+json": {
              "type": "string"
            }
          },
          "metadata": {},
          "execution_count": 16
        }
      ]
    },
    {
      "cell_type": "code",
      "source": [
        "\"\"\"\n",
        "plt.plot(vf, abs(Xw).T)\n",
        "plt.xlabel('Frequency (Hz)')\n",
        "plt.ylabel('|X(f)|')\n",
        "st.pyplot(plt)\n",
        "\"\"\""
      ],
      "metadata": {
        "id": "b7v7NMQc2l4E",
        "colab": {
          "base_uri": "https://localhost:8080/",
          "height": 36
        },
        "outputId": "155d79d5-d9c3-45a9-96a4-7386d9faf395"
      },
      "execution_count": 17,
      "outputs": [
        {
          "output_type": "execute_result",
          "data": {
            "text/plain": [
              "\"\\nplt.plot(vf, abs(Xw).T)\\nplt.xlabel('Frequency (Hz)')\\nplt.ylabel('|X(f)|')\\nst.pyplot(plt)\\n\""
            ],
            "application/vnd.google.colaboratory.intrinsic+json": {
              "type": "string"
            }
          },
          "metadata": {},
          "execution_count": 17
        }
      ]
    },
    {
      "cell_type": "markdown",
      "source": [
        "Streamlit en ocasiones recomienda usar st.write() gracias a su funcionalidad \"Magic\". Podemos pasarle casi cualquier cosa a st.write() y automáticamente encontrará la mejor manera de representar esos datos (texto, datos, figuras, etc). Sin embargo, para un mayor control, pueden usarse los métodos mencionados antes."
      ],
      "metadata": {
        "id": "f1DQs3Ij201F"
      }
    },
    {
      "cell_type": "markdown",
      "source": [
        "### Presentación del dashboard\n",
        "\n",
        "Streamlit facilita la organización de los widgets en un panel lateral izquierdo con st.sidebar(). Cada elemento que se pasa a st.sidebar() queda fijado a la izquierda, permitiendo a los usuarios concentrarse en el contenido de la aplicación mientras siguen teniendo acceso a los controles de la interfaz."
      ],
      "metadata": {
        "id": "PCN9Hw_c34A5"
      }
    },
    {
      "cell_type": "code",
      "source": [
        "# Add a selectbox to the sidebar:\n",
        "add_selectbox = st.sidebar.selectbox(\n",
        "    'How would you like to be contacted?',\n",
        "    ('Email', 'Home phone', 'Mobile phone')\n",
        ")"
      ],
      "metadata": {
        "id": "-KXaIkEG5Lsi",
        "outputId": "b0dec57c-3850-403d-c3ab-d1772c095cf1",
        "colab": {
          "base_uri": "https://localhost:8080/"
        }
      },
      "execution_count": 18,
      "outputs": [
        {
          "output_type": "stream",
          "name": "stderr",
          "text": [
            "2024-08-29 21:25:46.742 Thread 'MainThread': missing ScriptRunContext! This warning can be ignored when running in bare mode.\n",
            "2024-08-29 21:25:46.758 Thread 'MainThread': missing ScriptRunContext! This warning can be ignored when running in bare mode.\n",
            "2024-08-29 21:25:46.762 Thread 'MainThread': missing ScriptRunContext! This warning can be ignored when running in bare mode.\n",
            "2024-08-29 21:25:46.764 Thread 'MainThread': missing ScriptRunContext! This warning can be ignored when running in bare mode.\n",
            "2024-08-29 21:25:46.766 Thread 'MainThread': missing ScriptRunContext! This warning can be ignored when running in bare mode.\n"
          ]
        }
      ]
    },
    {
      "cell_type": "markdown",
      "source": [
        "Más allá del panel lateral, Streamlit ofrece varias otras formas de controlar la disposición de tu aplicación. st.columns() permite colocar widgets uno al lado del otro, y st.expander() permite ahorrar espacio al ocultar contenido extenso."
      ],
      "metadata": {
        "id": "ocFHAVk15nCI"
      }
    },
    {
      "cell_type": "markdown",
      "source": [
        "A medida que las aplicaciones crecen, resulta útil organizarlas en múltiples páginas. Esto facilita la gestión de la aplicación y la navegación como usuario. Streamlit ofrece una forma sencilla de crear aplicaciones multipágina.\n",
        "- En la carpeta donde está el script principal, se crea una nueva carpeta para las páginas [pages].\n",
        "- Se añaden nuevos archivos .py en esta carpeta para añadir más páginas a la app.\n",
        "- Se corre sl script principal de la misma manera."
      ],
      "metadata": {
        "id": "Zxx09CKO76tt"
      }
    },
    {
      "cell_type": "markdown",
      "source": [
        "Para mayor detalle en el uso de streamlit, podemos recurrir a su propia documentación, con ejemplos y otros detalles: https://docs.streamlit.io/get-started"
      ],
      "metadata": {
        "id": "5dTHyiBX35xM"
      }
    }
  ]
}