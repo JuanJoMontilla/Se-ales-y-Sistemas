{
  "nbformat": 4,
  "nbformat_minor": 0,
  "metadata": {
    "colab": {
      "provenance": [],
      "include_colab_link": true
    },
    "kernelspec": {
      "name": "python3",
      "display_name": "Python 3"
    },
    "language_info": {
      "name": "python"
    }
  },
  "cells": [
    {
      "cell_type": "markdown",
      "metadata": {
        "id": "view-in-github",
        "colab_type": "text"
      },
      "source": [
        "<a href=\"https://colab.research.google.com/github/JuanJoMontilla/Senales-y-Sistemas/blob/main/Python_Basics/8_Herencias.ipynb\" target=\"_parent\"><img src=\"https://colab.research.google.com/assets/colab-badge.svg\" alt=\"Open In Colab\"/></a>"
      ]
    },
    {
      "cell_type": "markdown",
      "source": [
        "# Herencias en clases\n",
        "\n",
        "En programación, las herencias se refieren a la capacidad de una clase (llamada clase derivada o subclase) de heredar propiedades y métodos de otra clase (llamada clase base o superclase).\n",
        "\n",
        "La herencia es un concepto fundamental en la programación orientada a objetos (POO) y permite crear jerarquías de clases, donde las clases derivadas heredan características comunes de la clase base y también pueden agregar sus propias propiedades y métodos específicos.\n",
        "\n",
        "La herencia permite reutilizar el código existente, ya que las clases derivadas pueden aprovechar la funcionalidad implementada en la clase base sin tener que volver a escribirlo. Esto promueve la modularidad, el mantenimiento y la extensibilidad del código."
      ],
      "metadata": {
        "id": "vK6RvvN_QnR6"
      }
    },
    {
      "cell_type": "markdown",
      "source": [
        "### Ejemplo #1\n",
        "\n",
        "Supongamos que estás creando un programa para administrar empleados en una empresa. Tienes una clase base llamada \"Empleado\" y quieres crear una clase derivada llamada \"EmpleadoAsalariado\" que herede de la clase base."
      ],
      "metadata": {
        "id": "4r5En97IRAL5"
      }
    },
    {
      "cell_type": "code",
      "execution_count": null,
      "metadata": {
        "id": "w7MZ5olnQkUm"
      },
      "outputs": [],
      "source": [
        "class Empleado:\n",
        "    def __init__(self, nombre, salario):\n",
        "        self.nombre = nombre\n",
        "        self.salario = salario\n",
        "\n",
        "    def obtener_salario(self):\n",
        "        return self.salario\n",
        "\n",
        "class EmpleadoAsalariado(Empleado):\n",
        "    def __init__(self, nombre, salario, bono):\n",
        "        super().__init__(nombre, salario)  # Llama al constructor de la clase base\n",
        "        self.bono = bono\n",
        "\n",
        "    def obtener_salario(self):\n",
        "        return self.salario + self.bono\n",
        "\n",
        "# Creamos una instancia de la clase base\n",
        "empleado1 = Empleado(\"Juan\", 2000)\n",
        "print(empleado1.obtener_salario())  # Output: 2000\n",
        "\n",
        "# Creamos una instancia de la clase derivada\n",
        "empleado2 = EmpleadoAsalariado(\"Pedro\", 2500, 500)\n",
        "print(empleado2.obtener_salario())  # Output: 3000 (salario + bono)"
      ]
    },
    {
      "cell_type": "markdown",
      "source": [
        "En este ejemplo, la clase base \"Empleado\" tiene un constructor que recibe el nombre y el salario del empleado, y un método llamado \"obtener_salario()\" que devuelve el salario.\n",
        "\n",
        "La clase derivada \"EmpleadoAsalariado\" hereda de la clase base \"Empleado\" y agrega un nuevo atributo llamado \"bono\". Además, se anula el método \"obtener_salario()\" de la clase base para incluir el bono en el cálculo.\n",
        "\n",
        "Luego, creamos una instancia de la clase base \"Empleado\" y llamamos al método \"obtener_salario()\", devolviendo el salario básico.\n",
        "\n",
        "Después, creamos una instancia de la clase derivada \"EmpleadoAsalariado\" y llamamos al método \"obtener_salario()\", que devuelve el salario básico más el bono.\n",
        "\n",
        "Este ejemplo simplificado muestra cómo la clase derivada hereda los atributos y métodos de la clase base y puede agregar su propia funcionalidad."
      ],
      "metadata": {
        "id": "8pCtoWwfUQrG"
      }
    },
    {
      "cell_type": "markdown",
      "source": [
        "###Ejemplo #2\n",
        "\n",
        "Clases heredadas de automoviles"
      ],
      "metadata": {
        "id": "6RJac47SURZq"
      }
    },
    {
      "cell_type": "code",
      "source": [
        "class Vehiculo:\n",
        "    def __init__(self, marca, modelo, color):\n",
        "        self.marca = marca\n",
        "        self.modelo = modelo\n",
        "        self.color = color\n",
        "\n",
        "    def acelerar(self):\n",
        "        print(\"El vehículo está acelerando.\")\n",
        "\n",
        "    def frenar(self):\n",
        "        print(\"El vehículo está frenando.\")\n",
        "\n",
        "class Carro(Vehiculo):\n",
        "    def __init__(self, marca, modelo, color, num_puertas):\n",
        "        super().__init__(marca, modelo, color)\n",
        "        self.num_puertas = num_puertas\n",
        "\n",
        "    def abrir_puertas(self):\n",
        "        print(\"Las puertas del carro están abiertas.\")\n",
        "\n",
        "class Autobus(Vehiculo):\n",
        "    def __init__(self, marca, modelo, color, capacidad_pasajeros):\n",
        "        super().__init__(marca, modelo, color)\n",
        "        self.capacidad_pasajeros = capacidad_pasajeros\n",
        "\n",
        "    def subir_pasajeros(self):\n",
        "        print(\"Los pasajeros están subiendo al autobús.\")\n",
        "\n",
        "class Motocicleta(Vehiculo):\n",
        "    def __init__(self, marca, modelo, color, cilindrada):\n",
        "        super().__init__(marca, modelo, color)\n",
        "        self.cilindrada = cilindrada\n",
        "\n",
        "    def encender(self):\n",
        "        print(\"La motocicleta está encendida.\")\n",
        "\n",
        "class Hibrido(Carro):\n",
        "    def __init__(self, marca, modelo, color, num_puertas,modo_electrico):\n",
        "        super().__init__(marca, modelo, color, num_puertas)\n",
        "        self.modo_electrico = False\n",
        "\n",
        "\n",
        "    def activar_modo_electrico(self):\n",
        "        self.modo_electrico = True\n",
        "        print(\"El vehículo híbrido está en modo eléctrico.\")\n",
        "\n",
        "class Camion(Vehiculo):\n",
        "    def __init__(self, marca, modelo, color, capacidad_carga):\n",
        "        super().__init__(marca, modelo, color)\n",
        "        self.capacidad_carga = capacidad_carga\n",
        "\n",
        "    def cargar_mercancia(self):\n",
        "        print(\"Se está cargando la mercancía en el camión.\")"
      ],
      "metadata": {
        "id": "xYt75MD3Yy46"
      },
      "execution_count": null,
      "outputs": []
    },
    {
      "cell_type": "markdown",
      "source": [
        "En este ejemplo, tenemos una clase base llamada \"Vehiculo\" que contiene atributos y métodos generales que son comunes a todos los vehículos. Luego, tenemos las clases derivadas \"Carro\", \"Autobus\", \"Motocicleta\", \"Hibrido\" y \"Camion\" que heredan de la clase base y añaden atributos y métodos específicos.\n",
        "\n",
        "Cada clase derivada tiene su propio constructor que llama al constructor de la clase base utilizando la función super(). Además, cada clase derivada puede tener sus propios métodos adicionales según las características particulares del tipo de vehículo.\n",
        "\n",
        "Con este ejemplo, puedes crear instancias de los diferentes tipos de vehículos y acceder a sus métodos y atributos heredados. Por ejemplo:"
      ],
      "metadata": {
        "id": "-Gzan4-0duTq"
      }
    },
    {
      "cell_type": "code",
      "source": [
        "carro = Carro(\"Toyota\", \"Corolla\", \"Rojo\", 4)\n",
        "carro.acelerar()\n",
        "carro.abrir_puertas()\n",
        "\n",
        "autobus = Autobus(\"Mercedes\", \"Citaro\", \"Blanco\", 50)\n",
        "autobus.frenar()\n",
        "autobus.subir_pasajeros()\n",
        "\n",
        "motocicleta = Motocicleta(\"Honda\", \"CBR\", \"Negro\", 500)\n",
        "motocicleta.encender()\n",
        "motocicleta.frenar()\n",
        "\n",
        "hibrido = Hibrido(\"Toyota\", \"Prius\", \"Azul\", 4, True)\n"
      ],
      "metadata": {
        "id": "0MxNgAgyd3b7"
      },
      "execution_count": null,
      "outputs": []
    },
    {
      "cell_type": "markdown",
      "source": [
        "## Ejercicio_1.\n",
        "\n",
        "Crea un sistema de manejo de figuras geométricas utilizando clases y herencia. Debes tener una clase base llamada \"FiguraGeometrica\" con un método abstracto llamado \"calcular_area()\". Luego, crea clases derivadas para diferentes tipos de figuras geométricas, como \"Círculo\", \"Rectángulo\" y \"Triángulo\". Cada clase derivada debe implementar el método \"calcular_area()\" de acuerdo con la fórmula correspondiente para el cálculo del área de esa figura."
      ],
      "metadata": {
        "id": "ZjKccYRmvtN7"
      }
    },
    {
      "cell_type": "markdown",
      "source": [
        "Respuesta punto 1"
      ],
      "metadata": {
        "id": "RyVoLBy_phPy"
      }
    },
    {
      "cell_type": "code",
      "source": [
        "from posixpath import pardir\n",
        "import math as mh\n",
        "class FiguraGeometrica:\n",
        "  def __init__(self, figura):\n",
        "    self.figura= figura\n",
        "\n",
        "class circulo(FiguraGeometrica):\n",
        "  def __init__(self,figura, radio):\n",
        "    super().__init__(figura)\n",
        "    self.radio= radio\n",
        "  def area(self):\n",
        "    area = mh.pi * (self.radio)\n",
        "    print(f\"El área de {self.figura} es de: {area}\")\n",
        "\n",
        "class rectangulo(FiguraGeometrica):\n",
        "  def __init__(self, figura, longitud, ancho):\n",
        "    super().__init__(figura)\n",
        "    self.longitud= longitud\n",
        "    self.ancho= ancho\n",
        "  def area(self):\n",
        "    area= self.longitud * self.ancho\n",
        "    print(f\"El área de {self.figura} es de: {area}\")\n",
        "\n",
        "class triangulo(FiguraGeometrica):\n",
        "  def __init__(self, figura,base, altura):\n",
        "     super().__init__(figura)\n",
        "     self.base= base\n",
        "     self.altura = altura\n",
        "  def area(self):\n",
        "    area = (self.base * self.altura)/2\n",
        "    print(f\"El área de {self.figura} es de: {area}\")"
      ],
      "metadata": {
        "id": "qvZ-fM2Lpjns"
      },
      "execution_count": null,
      "outputs": []
    },
    {
      "cell_type": "markdown",
      "source": [
        "## Ejercicio_2\n",
        "\n",
        "Crea un sistema de reserva de vuelos utilizando clases y herencia. Debes tener una clase base llamada \"Vuelo\" con los siguientes atributos: número de vuelo, origen, destino, y capacidad máxima de pasajeros. Luego, crea una clase derivada llamada \"VueloEconomico\" que herede de la clase base y agregue un atributo adicional llamado \"tarifa\". Además, agrega métodos en ambas clases para mostrar la información del vuelo y realizar una reserva de asientos.\n",
        "\n",
        "La clase base \"Vuelo\" debe tener un método para verificar si hay asientos disponibles y otro para realizar la reserva de un asiento. La clase derivada \"VueloEconomico\" puede tener métodos adicionales para calcular el precio total de la reserva de acuerdo con la tarifa y la cantidad de asientos reservados."
      ],
      "metadata": {
        "id": "VVeP1H2KwHaa"
      }
    },
    {
      "cell_type": "markdown",
      "source": [
        "Respuesta punto 2"
      ],
      "metadata": {
        "id": "invMwSiLpypH"
      }
    },
    {
      "cell_type": "code",
      "source": [
        "import random\n",
        "\n",
        "class vuelo:\n",
        "  def __init__(self,num_vuelo, origen, destino, capacidad_max, valor):\n",
        "    self.num_vuelo= num_vuelo\n",
        "    self.origen= origen\n",
        "    self.destino= destino\n",
        "    self.capacidad_max= capacidad_max\n",
        "    self.valor = valor\n",
        "\n",
        "  def info_vuelo(self, reservados):\n",
        "    puestos_libres = self.capacidad_max - reservados\n",
        "    print(f\"Hay {puestos_libres} puestos libres de: {self.capacidad_max}\")\n",
        "\n",
        "  def reservar(self,reservados):\n",
        "    puestos_libres = self.capacidad_max - reservados\n",
        "    while True:\n",
        "      comprar= input(f\"Hay {puestos_libres} puestos libres de: {self.capacidad_max}, valor del vuelo es: {self.valor}. \\n Para reservar un puesto copie Y o N para no reservar: \")\n",
        "      if comprar.upper() == \"Y\":\n",
        "        print(\"Usted a reservado un asiento\")\n",
        "        break\n",
        "      elif comprar.upper()== \"N\":\n",
        "        print(\"Usted cancelo la compra\")\n",
        "        break\n",
        "      else:\n",
        "        print(\"No es una respuesta valida\")\n",
        "\n",
        "class Vuelo_economico(vuelo):\n",
        "  def __init__(self, num_vuelo, origen, destino, capacidad_max, tarifa, valor):\n",
        "    super().__init__(num_vuelo, origen, destino, capacidad_max, valor)\n",
        "    self.tarifa= tarifa\n",
        "\n",
        "  def info_vuelo(self, reservados):\n",
        "    puestos_libres = self.capacidad_max - reservados\n",
        "    print(f\"Hay {puestos_libres} puestos libres de: {self.capacidad_max}\")\n",
        "\n",
        "  def reservar(self,reservados):\n",
        "    puestos_libres = self.capacidad_max - reservados\n",
        "    while True:\n",
        "      comprar= input(f\"Hay {puestos_libres} puestos libres de: {self.capacidad_max}, el valor del vuelo economico es: {self.valor - self.tarifa}. \\n para reservar un puesto copie Y o N para no reservar: \")\n",
        "      if comprar.upper() == \"Y\":\n",
        "        print(f\"Usted a reservado un asiento en vuelo economico, el costo del vuelo es: {self.valor - self.tarifa}\")\n",
        "        break\n",
        "      elif comprar.upper()== \"N\":\n",
        "        print(\"Usted cancelo la compra\")\n",
        "        break\n",
        "      else:\n",
        "        print(\"No es una respuesta valida\")"
      ],
      "metadata": {
        "id": "hP5mOIiwp0in"
      },
      "execution_count": null,
      "outputs": []
    },
    {
      "cell_type": "code",
      "source": [
        "#Se comprueba que funcionan todas las funciones\n",
        "resvul= Vuelo_economico(192,\"colombia\",\"madrid\",50, 200000, 500000)\n",
        "resvul.reservar(random.randint(1, 51))"
      ],
      "metadata": {
        "id": "u7zqRnuXqTLb"
      },
      "execution_count": null,
      "outputs": []
    }
  ]
}